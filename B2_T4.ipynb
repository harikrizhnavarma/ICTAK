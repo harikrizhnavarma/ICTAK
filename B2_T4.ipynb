{
 "cells": [
  {
   "cell_type": "code",
   "execution_count": 1,
   "id": "b55a65fe",
   "metadata": {},
   "outputs": [],
   "source": [
    "import numpy as np\n",
    "import pandas as pd\n",
    "import matplotlib.pyplot as plt\n",
    "import seaborn as sns"
   ]
  },
  {
   "cell_type": "code",
   "execution_count": 2,
   "id": "1760c4cc",
   "metadata": {},
   "outputs": [
    {
     "data": {
      "text/html": [
       "<div>\n",
       "<style scoped>\n",
       "    .dataframe tbody tr th:only-of-type {\n",
       "        vertical-align: middle;\n",
       "    }\n",
       "\n",
       "    .dataframe tbody tr th {\n",
       "        vertical-align: top;\n",
       "    }\n",
       "\n",
       "    .dataframe thead th {\n",
       "        text-align: right;\n",
       "    }\n",
       "</style>\n",
       "<table border=\"1\" class=\"dataframe\">\n",
       "  <thead>\n",
       "    <tr style=\"text-align: right;\">\n",
       "      <th></th>\n",
       "      <th>CustomerID</th>\n",
       "      <th>ProdTaken</th>\n",
       "      <th>Age</th>\n",
       "      <th>TypeofContact</th>\n",
       "      <th>CityTier</th>\n",
       "      <th>DurationOfPitch</th>\n",
       "      <th>Occupation</th>\n",
       "      <th>Gender</th>\n",
       "      <th>NumberOfPersonVisiting</th>\n",
       "      <th>NumberOfFollowups</th>\n",
       "      <th>ProductPitched</th>\n",
       "      <th>PreferredPropertyStar</th>\n",
       "      <th>MaritalStatus</th>\n",
       "      <th>NumberOfTrips</th>\n",
       "      <th>Passport</th>\n",
       "      <th>PitchSatisfactionScore</th>\n",
       "      <th>OwnCar</th>\n",
       "      <th>NumberOfChildrenVisiting</th>\n",
       "      <th>Designation</th>\n",
       "      <th>MonthlyIncome</th>\n",
       "    </tr>\n",
       "  </thead>\n",
       "  <tbody>\n",
       "    <tr>\n",
       "      <th>0</th>\n",
       "      <td>200000</td>\n",
       "      <td>1</td>\n",
       "      <td>41.0</td>\n",
       "      <td>Self Enquiry</td>\n",
       "      <td>3</td>\n",
       "      <td>6.0</td>\n",
       "      <td>Salaried</td>\n",
       "      <td>Female</td>\n",
       "      <td>3</td>\n",
       "      <td>3.0</td>\n",
       "      <td>Deluxe</td>\n",
       "      <td>3.0</td>\n",
       "      <td>Single</td>\n",
       "      <td>1.0</td>\n",
       "      <td>1</td>\n",
       "      <td>2</td>\n",
       "      <td>1</td>\n",
       "      <td>0.0</td>\n",
       "      <td>Manager</td>\n",
       "      <td>20993.0</td>\n",
       "    </tr>\n",
       "    <tr>\n",
       "      <th>1</th>\n",
       "      <td>200001</td>\n",
       "      <td>0</td>\n",
       "      <td>49.0</td>\n",
       "      <td>Company Invited</td>\n",
       "      <td>1</td>\n",
       "      <td>14.0</td>\n",
       "      <td>Salaried</td>\n",
       "      <td>Male</td>\n",
       "      <td>3</td>\n",
       "      <td>4.0</td>\n",
       "      <td>Deluxe</td>\n",
       "      <td>4.0</td>\n",
       "      <td>Divorced</td>\n",
       "      <td>2.0</td>\n",
       "      <td>0</td>\n",
       "      <td>3</td>\n",
       "      <td>1</td>\n",
       "      <td>2.0</td>\n",
       "      <td>Manager</td>\n",
       "      <td>20130.0</td>\n",
       "    </tr>\n",
       "    <tr>\n",
       "      <th>2</th>\n",
       "      <td>200002</td>\n",
       "      <td>1</td>\n",
       "      <td>37.0</td>\n",
       "      <td>Self Enquiry</td>\n",
       "      <td>1</td>\n",
       "      <td>8.0</td>\n",
       "      <td>Free Lancer</td>\n",
       "      <td>Male</td>\n",
       "      <td>3</td>\n",
       "      <td>4.0</td>\n",
       "      <td>Basic</td>\n",
       "      <td>3.0</td>\n",
       "      <td>Single</td>\n",
       "      <td>7.0</td>\n",
       "      <td>1</td>\n",
       "      <td>3</td>\n",
       "      <td>0</td>\n",
       "      <td>0.0</td>\n",
       "      <td>Executive</td>\n",
       "      <td>17090.0</td>\n",
       "    </tr>\n",
       "    <tr>\n",
       "      <th>3</th>\n",
       "      <td>200003</td>\n",
       "      <td>0</td>\n",
       "      <td>33.0</td>\n",
       "      <td>Company Invited</td>\n",
       "      <td>1</td>\n",
       "      <td>9.0</td>\n",
       "      <td>Salaried</td>\n",
       "      <td>Female</td>\n",
       "      <td>2</td>\n",
       "      <td>3.0</td>\n",
       "      <td>Basic</td>\n",
       "      <td>3.0</td>\n",
       "      <td>Divorced</td>\n",
       "      <td>2.0</td>\n",
       "      <td>1</td>\n",
       "      <td>5</td>\n",
       "      <td>1</td>\n",
       "      <td>1.0</td>\n",
       "      <td>Executive</td>\n",
       "      <td>17909.0</td>\n",
       "    </tr>\n",
       "    <tr>\n",
       "      <th>4</th>\n",
       "      <td>200004</td>\n",
       "      <td>0</td>\n",
       "      <td>NaN</td>\n",
       "      <td>Self Enquiry</td>\n",
       "      <td>1</td>\n",
       "      <td>8.0</td>\n",
       "      <td>Small Business</td>\n",
       "      <td>Male</td>\n",
       "      <td>2</td>\n",
       "      <td>3.0</td>\n",
       "      <td>Basic</td>\n",
       "      <td>4.0</td>\n",
       "      <td>Divorced</td>\n",
       "      <td>1.0</td>\n",
       "      <td>0</td>\n",
       "      <td>5</td>\n",
       "      <td>1</td>\n",
       "      <td>0.0</td>\n",
       "      <td>Executive</td>\n",
       "      <td>18468.0</td>\n",
       "    </tr>\n",
       "  </tbody>\n",
       "</table>\n",
       "</div>"
      ],
      "text/plain": [
       "   CustomerID  ProdTaken   Age    TypeofContact  CityTier  DurationOfPitch  \\\n",
       "0      200000          1  41.0     Self Enquiry         3              6.0   \n",
       "1      200001          0  49.0  Company Invited         1             14.0   \n",
       "2      200002          1  37.0     Self Enquiry         1              8.0   \n",
       "3      200003          0  33.0  Company Invited         1              9.0   \n",
       "4      200004          0   NaN     Self Enquiry         1              8.0   \n",
       "\n",
       "       Occupation  Gender  NumberOfPersonVisiting  NumberOfFollowups  \\\n",
       "0        Salaried  Female                       3                3.0   \n",
       "1        Salaried    Male                       3                4.0   \n",
       "2     Free Lancer    Male                       3                4.0   \n",
       "3        Salaried  Female                       2                3.0   \n",
       "4  Small Business    Male                       2                3.0   \n",
       "\n",
       "  ProductPitched  PreferredPropertyStar MaritalStatus  NumberOfTrips  \\\n",
       "0         Deluxe                    3.0        Single            1.0   \n",
       "1         Deluxe                    4.0      Divorced            2.0   \n",
       "2          Basic                    3.0        Single            7.0   \n",
       "3          Basic                    3.0      Divorced            2.0   \n",
       "4          Basic                    4.0      Divorced            1.0   \n",
       "\n",
       "   Passport  PitchSatisfactionScore  OwnCar  NumberOfChildrenVisiting  \\\n",
       "0         1                       2       1                       0.0   \n",
       "1         0                       3       1                       2.0   \n",
       "2         1                       3       0                       0.0   \n",
       "3         1                       5       1                       1.0   \n",
       "4         0                       5       1                       0.0   \n",
       "\n",
       "  Designation  MonthlyIncome  \n",
       "0     Manager        20993.0  \n",
       "1     Manager        20130.0  \n",
       "2   Executive        17090.0  \n",
       "3   Executive        17909.0  \n",
       "4   Executive        18468.0  "
      ]
     },
     "execution_count": 2,
     "metadata": {},
     "output_type": "execute_result"
    }
   ],
   "source": [
    "# Importing dataset\n",
    "data=pd.read_csv('Travel.csv')\n",
    "data.head()"
   ]
  },
  {
   "cell_type": "code",
   "execution_count": 3,
   "id": "92c3e16a",
   "metadata": {},
   "outputs": [
    {
     "data": {
      "text/html": [
       "<div>\n",
       "<style scoped>\n",
       "    .dataframe tbody tr th:only-of-type {\n",
       "        vertical-align: middle;\n",
       "    }\n",
       "\n",
       "    .dataframe tbody tr th {\n",
       "        vertical-align: top;\n",
       "    }\n",
       "\n",
       "    .dataframe thead th {\n",
       "        text-align: right;\n",
       "    }\n",
       "</style>\n",
       "<table border=\"1\" class=\"dataframe\">\n",
       "  <thead>\n",
       "    <tr style=\"text-align: right;\">\n",
       "      <th></th>\n",
       "      <th>ProdTaken</th>\n",
       "      <th>Age</th>\n",
       "      <th>TypeofContact</th>\n",
       "      <th>CityTier</th>\n",
       "      <th>DurationOfPitch</th>\n",
       "      <th>Occupation</th>\n",
       "      <th>Gender</th>\n",
       "      <th>NumberOfPersonVisiting</th>\n",
       "      <th>NumberOfFollowups</th>\n",
       "      <th>ProductPitched</th>\n",
       "      <th>PreferredPropertyStar</th>\n",
       "      <th>MaritalStatus</th>\n",
       "      <th>NumberOfTrips</th>\n",
       "      <th>Passport</th>\n",
       "      <th>PitchSatisfactionScore</th>\n",
       "      <th>OwnCar</th>\n",
       "      <th>NumberOfChildrenVisiting</th>\n",
       "      <th>Designation</th>\n",
       "      <th>MonthlyIncome</th>\n",
       "    </tr>\n",
       "    <tr>\n",
       "      <th>CustomerID</th>\n",
       "      <th></th>\n",
       "      <th></th>\n",
       "      <th></th>\n",
       "      <th></th>\n",
       "      <th></th>\n",
       "      <th></th>\n",
       "      <th></th>\n",
       "      <th></th>\n",
       "      <th></th>\n",
       "      <th></th>\n",
       "      <th></th>\n",
       "      <th></th>\n",
       "      <th></th>\n",
       "      <th></th>\n",
       "      <th></th>\n",
       "      <th></th>\n",
       "      <th></th>\n",
       "      <th></th>\n",
       "      <th></th>\n",
       "    </tr>\n",
       "  </thead>\n",
       "  <tbody>\n",
       "    <tr>\n",
       "      <th>200000</th>\n",
       "      <td>1</td>\n",
       "      <td>41.0</td>\n",
       "      <td>Self Enquiry</td>\n",
       "      <td>3</td>\n",
       "      <td>6.0</td>\n",
       "      <td>Salaried</td>\n",
       "      <td>Female</td>\n",
       "      <td>3</td>\n",
       "      <td>3.0</td>\n",
       "      <td>Deluxe</td>\n",
       "      <td>3.0</td>\n",
       "      <td>Single</td>\n",
       "      <td>1.0</td>\n",
       "      <td>1</td>\n",
       "      <td>2</td>\n",
       "      <td>1</td>\n",
       "      <td>0.0</td>\n",
       "      <td>Manager</td>\n",
       "      <td>20993.0</td>\n",
       "    </tr>\n",
       "    <tr>\n",
       "      <th>200001</th>\n",
       "      <td>0</td>\n",
       "      <td>49.0</td>\n",
       "      <td>Company Invited</td>\n",
       "      <td>1</td>\n",
       "      <td>14.0</td>\n",
       "      <td>Salaried</td>\n",
       "      <td>Male</td>\n",
       "      <td>3</td>\n",
       "      <td>4.0</td>\n",
       "      <td>Deluxe</td>\n",
       "      <td>4.0</td>\n",
       "      <td>Divorced</td>\n",
       "      <td>2.0</td>\n",
       "      <td>0</td>\n",
       "      <td>3</td>\n",
       "      <td>1</td>\n",
       "      <td>2.0</td>\n",
       "      <td>Manager</td>\n",
       "      <td>20130.0</td>\n",
       "    </tr>\n",
       "    <tr>\n",
       "      <th>200002</th>\n",
       "      <td>1</td>\n",
       "      <td>37.0</td>\n",
       "      <td>Self Enquiry</td>\n",
       "      <td>1</td>\n",
       "      <td>8.0</td>\n",
       "      <td>Free Lancer</td>\n",
       "      <td>Male</td>\n",
       "      <td>3</td>\n",
       "      <td>4.0</td>\n",
       "      <td>Basic</td>\n",
       "      <td>3.0</td>\n",
       "      <td>Single</td>\n",
       "      <td>7.0</td>\n",
       "      <td>1</td>\n",
       "      <td>3</td>\n",
       "      <td>0</td>\n",
       "      <td>0.0</td>\n",
       "      <td>Executive</td>\n",
       "      <td>17090.0</td>\n",
       "    </tr>\n",
       "    <tr>\n",
       "      <th>200003</th>\n",
       "      <td>0</td>\n",
       "      <td>33.0</td>\n",
       "      <td>Company Invited</td>\n",
       "      <td>1</td>\n",
       "      <td>9.0</td>\n",
       "      <td>Salaried</td>\n",
       "      <td>Female</td>\n",
       "      <td>2</td>\n",
       "      <td>3.0</td>\n",
       "      <td>Basic</td>\n",
       "      <td>3.0</td>\n",
       "      <td>Divorced</td>\n",
       "      <td>2.0</td>\n",
       "      <td>1</td>\n",
       "      <td>5</td>\n",
       "      <td>1</td>\n",
       "      <td>1.0</td>\n",
       "      <td>Executive</td>\n",
       "      <td>17909.0</td>\n",
       "    </tr>\n",
       "    <tr>\n",
       "      <th>200004</th>\n",
       "      <td>0</td>\n",
       "      <td>NaN</td>\n",
       "      <td>Self Enquiry</td>\n",
       "      <td>1</td>\n",
       "      <td>8.0</td>\n",
       "      <td>Small Business</td>\n",
       "      <td>Male</td>\n",
       "      <td>2</td>\n",
       "      <td>3.0</td>\n",
       "      <td>Basic</td>\n",
       "      <td>4.0</td>\n",
       "      <td>Divorced</td>\n",
       "      <td>1.0</td>\n",
       "      <td>0</td>\n",
       "      <td>5</td>\n",
       "      <td>1</td>\n",
       "      <td>0.0</td>\n",
       "      <td>Executive</td>\n",
       "      <td>18468.0</td>\n",
       "    </tr>\n",
       "    <tr>\n",
       "      <th>200005</th>\n",
       "      <td>0</td>\n",
       "      <td>32.0</td>\n",
       "      <td>Company Invited</td>\n",
       "      <td>1</td>\n",
       "      <td>8.0</td>\n",
       "      <td>Salaried</td>\n",
       "      <td>Male</td>\n",
       "      <td>3</td>\n",
       "      <td>3.0</td>\n",
       "      <td>Basic</td>\n",
       "      <td>3.0</td>\n",
       "      <td>Single</td>\n",
       "      <td>1.0</td>\n",
       "      <td>0</td>\n",
       "      <td>5</td>\n",
       "      <td>1</td>\n",
       "      <td>1.0</td>\n",
       "      <td>Executive</td>\n",
       "      <td>18068.0</td>\n",
       "    </tr>\n",
       "    <tr>\n",
       "      <th>200006</th>\n",
       "      <td>0</td>\n",
       "      <td>59.0</td>\n",
       "      <td>Self Enquiry</td>\n",
       "      <td>1</td>\n",
       "      <td>9.0</td>\n",
       "      <td>Small Business</td>\n",
       "      <td>Female</td>\n",
       "      <td>2</td>\n",
       "      <td>2.0</td>\n",
       "      <td>Basic</td>\n",
       "      <td>5.0</td>\n",
       "      <td>Divorced</td>\n",
       "      <td>5.0</td>\n",
       "      <td>1</td>\n",
       "      <td>2</td>\n",
       "      <td>1</td>\n",
       "      <td>1.0</td>\n",
       "      <td>Executive</td>\n",
       "      <td>17670.0</td>\n",
       "    </tr>\n",
       "    <tr>\n",
       "      <th>200007</th>\n",
       "      <td>0</td>\n",
       "      <td>30.0</td>\n",
       "      <td>Self Enquiry</td>\n",
       "      <td>1</td>\n",
       "      <td>30.0</td>\n",
       "      <td>Salaried</td>\n",
       "      <td>Male</td>\n",
       "      <td>3</td>\n",
       "      <td>3.0</td>\n",
       "      <td>Basic</td>\n",
       "      <td>3.0</td>\n",
       "      <td>Married</td>\n",
       "      <td>2.0</td>\n",
       "      <td>0</td>\n",
       "      <td>2</td>\n",
       "      <td>0</td>\n",
       "      <td>1.0</td>\n",
       "      <td>Executive</td>\n",
       "      <td>17693.0</td>\n",
       "    </tr>\n",
       "    <tr>\n",
       "      <th>200008</th>\n",
       "      <td>0</td>\n",
       "      <td>38.0</td>\n",
       "      <td>Company Invited</td>\n",
       "      <td>1</td>\n",
       "      <td>29.0</td>\n",
       "      <td>Salaried</td>\n",
       "      <td>Male</td>\n",
       "      <td>2</td>\n",
       "      <td>4.0</td>\n",
       "      <td>Standard</td>\n",
       "      <td>3.0</td>\n",
       "      <td>Unmarried</td>\n",
       "      <td>1.0</td>\n",
       "      <td>0</td>\n",
       "      <td>3</td>\n",
       "      <td>0</td>\n",
       "      <td>0.0</td>\n",
       "      <td>Senior Manager</td>\n",
       "      <td>24526.0</td>\n",
       "    </tr>\n",
       "    <tr>\n",
       "      <th>200009</th>\n",
       "      <td>0</td>\n",
       "      <td>36.0</td>\n",
       "      <td>Self Enquiry</td>\n",
       "      <td>1</td>\n",
       "      <td>33.0</td>\n",
       "      <td>Small Business</td>\n",
       "      <td>Male</td>\n",
       "      <td>3</td>\n",
       "      <td>3.0</td>\n",
       "      <td>Deluxe</td>\n",
       "      <td>3.0</td>\n",
       "      <td>Divorced</td>\n",
       "      <td>7.0</td>\n",
       "      <td>0</td>\n",
       "      <td>3</td>\n",
       "      <td>1</td>\n",
       "      <td>0.0</td>\n",
       "      <td>Manager</td>\n",
       "      <td>20237.0</td>\n",
       "    </tr>\n",
       "    <tr>\n",
       "      <th>200010</th>\n",
       "      <td>0</td>\n",
       "      <td>35.0</td>\n",
       "      <td>Self Enquiry</td>\n",
       "      <td>1</td>\n",
       "      <td>22.0</td>\n",
       "      <td>Small Business</td>\n",
       "      <td>Male</td>\n",
       "      <td>2</td>\n",
       "      <td>2.0</td>\n",
       "      <td>Basic</td>\n",
       "      <td>4.0</td>\n",
       "      <td>Divorced</td>\n",
       "      <td>1.0</td>\n",
       "      <td>0</td>\n",
       "      <td>3</td>\n",
       "      <td>1</td>\n",
       "      <td>1.0</td>\n",
       "      <td>Executive</td>\n",
       "      <td>17426.0</td>\n",
       "    </tr>\n",
       "    <tr>\n",
       "      <th>200011</th>\n",
       "      <td>0</td>\n",
       "      <td>NaN</td>\n",
       "      <td>Self Enquiry</td>\n",
       "      <td>1</td>\n",
       "      <td>21.0</td>\n",
       "      <td>Salaried</td>\n",
       "      <td>Female</td>\n",
       "      <td>2</td>\n",
       "      <td>4.0</td>\n",
       "      <td>Deluxe</td>\n",
       "      <td>3.0</td>\n",
       "      <td>Single</td>\n",
       "      <td>1.0</td>\n",
       "      <td>1</td>\n",
       "      <td>3</td>\n",
       "      <td>0</td>\n",
       "      <td>0.0</td>\n",
       "      <td>Manager</td>\n",
       "      <td>NaN</td>\n",
       "    </tr>\n",
       "    <tr>\n",
       "      <th>200012</th>\n",
       "      <td>0</td>\n",
       "      <td>31.0</td>\n",
       "      <td>Self Enquiry</td>\n",
       "      <td>1</td>\n",
       "      <td>32.0</td>\n",
       "      <td>Salaried</td>\n",
       "      <td>Male</td>\n",
       "      <td>2</td>\n",
       "      <td>3.0</td>\n",
       "      <td>Basic</td>\n",
       "      <td>3.0</td>\n",
       "      <td>Married</td>\n",
       "      <td>2.0</td>\n",
       "      <td>0</td>\n",
       "      <td>3</td>\n",
       "      <td>0</td>\n",
       "      <td>1.0</td>\n",
       "      <td>Executive</td>\n",
       "      <td>17911.0</td>\n",
       "    </tr>\n",
       "    <tr>\n",
       "      <th>200013</th>\n",
       "      <td>0</td>\n",
       "      <td>34.0</td>\n",
       "      <td>Self Enquiry</td>\n",
       "      <td>1</td>\n",
       "      <td>25.0</td>\n",
       "      <td>Small Business</td>\n",
       "      <td>Male</td>\n",
       "      <td>3</td>\n",
       "      <td>3.0</td>\n",
       "      <td>Basic</td>\n",
       "      <td>3.0</td>\n",
       "      <td>Married</td>\n",
       "      <td>1.0</td>\n",
       "      <td>0</td>\n",
       "      <td>3</td>\n",
       "      <td>0</td>\n",
       "      <td>2.0</td>\n",
       "      <td>Executive</td>\n",
       "      <td>17661.0</td>\n",
       "    </tr>\n",
       "    <tr>\n",
       "      <th>200014</th>\n",
       "      <td>1</td>\n",
       "      <td>28.0</td>\n",
       "      <td>Self Enquiry</td>\n",
       "      <td>1</td>\n",
       "      <td>30.0</td>\n",
       "      <td>Salaried</td>\n",
       "      <td>Male</td>\n",
       "      <td>2</td>\n",
       "      <td>4.0</td>\n",
       "      <td>Basic</td>\n",
       "      <td>3.0</td>\n",
       "      <td>Single</td>\n",
       "      <td>6.0</td>\n",
       "      <td>1</td>\n",
       "      <td>2</td>\n",
       "      <td>0</td>\n",
       "      <td>0.0</td>\n",
       "      <td>Executive</td>\n",
       "      <td>17028.0</td>\n",
       "    </tr>\n",
       "    <tr>\n",
       "      <th>200015</th>\n",
       "      <td>0</td>\n",
       "      <td>29.0</td>\n",
       "      <td>Self Enquiry</td>\n",
       "      <td>1</td>\n",
       "      <td>27.0</td>\n",
       "      <td>Salaried</td>\n",
       "      <td>Female</td>\n",
       "      <td>2</td>\n",
       "      <td>2.0</td>\n",
       "      <td>Standard</td>\n",
       "      <td>5.0</td>\n",
       "      <td>Married</td>\n",
       "      <td>2.0</td>\n",
       "      <td>0</td>\n",
       "      <td>5</td>\n",
       "      <td>1</td>\n",
       "      <td>1.0</td>\n",
       "      <td>Senior Manager</td>\n",
       "      <td>24980.0</td>\n",
       "    </tr>\n",
       "    <tr>\n",
       "      <th>200016</th>\n",
       "      <td>0</td>\n",
       "      <td>32.0</td>\n",
       "      <td>Self Enquiry</td>\n",
       "      <td>1</td>\n",
       "      <td>11.0</td>\n",
       "      <td>Salaried</td>\n",
       "      <td>Male</td>\n",
       "      <td>3</td>\n",
       "      <td>2.0</td>\n",
       "      <td>Basic</td>\n",
       "      <td>4.0</td>\n",
       "      <td>Married</td>\n",
       "      <td>1.0</td>\n",
       "      <td>1</td>\n",
       "      <td>2</td>\n",
       "      <td>1</td>\n",
       "      <td>0.0</td>\n",
       "      <td>Executive</td>\n",
       "      <td>18298.0</td>\n",
       "    </tr>\n",
       "    <tr>\n",
       "      <th>200017</th>\n",
       "      <td>0</td>\n",
       "      <td>22.0</td>\n",
       "      <td>Company Invited</td>\n",
       "      <td>1</td>\n",
       "      <td>22.0</td>\n",
       "      <td>Small Business</td>\n",
       "      <td>Male</td>\n",
       "      <td>3</td>\n",
       "      <td>2.0</td>\n",
       "      <td>Basic</td>\n",
       "      <td>3.0</td>\n",
       "      <td>Married</td>\n",
       "      <td>2.0</td>\n",
       "      <td>1</td>\n",
       "      <td>3</td>\n",
       "      <td>0</td>\n",
       "      <td>0.0</td>\n",
       "      <td>Executive</td>\n",
       "      <td>17935.0</td>\n",
       "    </tr>\n",
       "    <tr>\n",
       "      <th>200018</th>\n",
       "      <td>0</td>\n",
       "      <td>53.0</td>\n",
       "      <td>Self Enquiry</td>\n",
       "      <td>3</td>\n",
       "      <td>8.0</td>\n",
       "      <td>Salaried</td>\n",
       "      <td>Female</td>\n",
       "      <td>3</td>\n",
       "      <td>4.0</td>\n",
       "      <td>Super Deluxe</td>\n",
       "      <td>3.0</td>\n",
       "      <td>Divorced</td>\n",
       "      <td>3.0</td>\n",
       "      <td>0</td>\n",
       "      <td>3</td>\n",
       "      <td>1</td>\n",
       "      <td>0.0</td>\n",
       "      <td>AVP</td>\n",
       "      <td>30427.0</td>\n",
       "    </tr>\n",
       "    <tr>\n",
       "      <th>200019</th>\n",
       "      <td>0</td>\n",
       "      <td>NaN</td>\n",
       "      <td>Self Enquiry</td>\n",
       "      <td>1</td>\n",
       "      <td>8.0</td>\n",
       "      <td>Salaried</td>\n",
       "      <td>Male</td>\n",
       "      <td>2</td>\n",
       "      <td>3.0</td>\n",
       "      <td>Basic</td>\n",
       "      <td>3.0</td>\n",
       "      <td>Single</td>\n",
       "      <td>6.0</td>\n",
       "      <td>1</td>\n",
       "      <td>4</td>\n",
       "      <td>0</td>\n",
       "      <td>1.0</td>\n",
       "      <td>Executive</td>\n",
       "      <td>NaN</td>\n",
       "    </tr>\n",
       "  </tbody>\n",
       "</table>\n",
       "</div>"
      ],
      "text/plain": [
       "            ProdTaken   Age    TypeofContact  CityTier  DurationOfPitch  \\\n",
       "CustomerID                                                                \n",
       "200000              1  41.0     Self Enquiry         3              6.0   \n",
       "200001              0  49.0  Company Invited         1             14.0   \n",
       "200002              1  37.0     Self Enquiry         1              8.0   \n",
       "200003              0  33.0  Company Invited         1              9.0   \n",
       "200004              0   NaN     Self Enquiry         1              8.0   \n",
       "200005              0  32.0  Company Invited         1              8.0   \n",
       "200006              0  59.0     Self Enquiry         1              9.0   \n",
       "200007              0  30.0     Self Enquiry         1             30.0   \n",
       "200008              0  38.0  Company Invited         1             29.0   \n",
       "200009              0  36.0     Self Enquiry         1             33.0   \n",
       "200010              0  35.0     Self Enquiry         1             22.0   \n",
       "200011              0   NaN     Self Enquiry         1             21.0   \n",
       "200012              0  31.0     Self Enquiry         1             32.0   \n",
       "200013              0  34.0     Self Enquiry         1             25.0   \n",
       "200014              1  28.0     Self Enquiry         1             30.0   \n",
       "200015              0  29.0     Self Enquiry         1             27.0   \n",
       "200016              0  32.0     Self Enquiry         1             11.0   \n",
       "200017              0  22.0  Company Invited         1             22.0   \n",
       "200018              0  53.0     Self Enquiry         3              8.0   \n",
       "200019              0   NaN     Self Enquiry         1              8.0   \n",
       "\n",
       "                Occupation  Gender  NumberOfPersonVisiting  NumberOfFollowups  \\\n",
       "CustomerID                                                                      \n",
       "200000            Salaried  Female                       3                3.0   \n",
       "200001            Salaried    Male                       3                4.0   \n",
       "200002         Free Lancer    Male                       3                4.0   \n",
       "200003            Salaried  Female                       2                3.0   \n",
       "200004      Small Business    Male                       2                3.0   \n",
       "200005            Salaried    Male                       3                3.0   \n",
       "200006      Small Business  Female                       2                2.0   \n",
       "200007            Salaried    Male                       3                3.0   \n",
       "200008            Salaried    Male                       2                4.0   \n",
       "200009      Small Business    Male                       3                3.0   \n",
       "200010      Small Business    Male                       2                2.0   \n",
       "200011            Salaried  Female                       2                4.0   \n",
       "200012            Salaried    Male                       2                3.0   \n",
       "200013      Small Business    Male                       3                3.0   \n",
       "200014            Salaried    Male                       2                4.0   \n",
       "200015            Salaried  Female                       2                2.0   \n",
       "200016            Salaried    Male                       3                2.0   \n",
       "200017      Small Business    Male                       3                2.0   \n",
       "200018            Salaried  Female                       3                4.0   \n",
       "200019            Salaried    Male                       2                3.0   \n",
       "\n",
       "           ProductPitched  PreferredPropertyStar MaritalStatus  NumberOfTrips  \\\n",
       "CustomerID                                                                      \n",
       "200000             Deluxe                    3.0        Single            1.0   \n",
       "200001             Deluxe                    4.0      Divorced            2.0   \n",
       "200002              Basic                    3.0        Single            7.0   \n",
       "200003              Basic                    3.0      Divorced            2.0   \n",
       "200004              Basic                    4.0      Divorced            1.0   \n",
       "200005              Basic                    3.0        Single            1.0   \n",
       "200006              Basic                    5.0      Divorced            5.0   \n",
       "200007              Basic                    3.0       Married            2.0   \n",
       "200008           Standard                    3.0     Unmarried            1.0   \n",
       "200009             Deluxe                    3.0      Divorced            7.0   \n",
       "200010              Basic                    4.0      Divorced            1.0   \n",
       "200011             Deluxe                    3.0        Single            1.0   \n",
       "200012              Basic                    3.0       Married            2.0   \n",
       "200013              Basic                    3.0       Married            1.0   \n",
       "200014              Basic                    3.0        Single            6.0   \n",
       "200015           Standard                    5.0       Married            2.0   \n",
       "200016              Basic                    4.0       Married            1.0   \n",
       "200017              Basic                    3.0       Married            2.0   \n",
       "200018       Super Deluxe                    3.0      Divorced            3.0   \n",
       "200019              Basic                    3.0        Single            6.0   \n",
       "\n",
       "            Passport  PitchSatisfactionScore  OwnCar  \\\n",
       "CustomerID                                             \n",
       "200000             1                       2       1   \n",
       "200001             0                       3       1   \n",
       "200002             1                       3       0   \n",
       "200003             1                       5       1   \n",
       "200004             0                       5       1   \n",
       "200005             0                       5       1   \n",
       "200006             1                       2       1   \n",
       "200007             0                       2       0   \n",
       "200008             0                       3       0   \n",
       "200009             0                       3       1   \n",
       "200010             0                       3       1   \n",
       "200011             1                       3       0   \n",
       "200012             0                       3       0   \n",
       "200013             0                       3       0   \n",
       "200014             1                       2       0   \n",
       "200015             0                       5       1   \n",
       "200016             1                       2       1   \n",
       "200017             1                       3       0   \n",
       "200018             0                       3       1   \n",
       "200019             1                       4       0   \n",
       "\n",
       "            NumberOfChildrenVisiting     Designation  MonthlyIncome  \n",
       "CustomerID                                                           \n",
       "200000                           0.0         Manager        20993.0  \n",
       "200001                           2.0         Manager        20130.0  \n",
       "200002                           0.0       Executive        17090.0  \n",
       "200003                           1.0       Executive        17909.0  \n",
       "200004                           0.0       Executive        18468.0  \n",
       "200005                           1.0       Executive        18068.0  \n",
       "200006                           1.0       Executive        17670.0  \n",
       "200007                           1.0       Executive        17693.0  \n",
       "200008                           0.0  Senior Manager        24526.0  \n",
       "200009                           0.0         Manager        20237.0  \n",
       "200010                           1.0       Executive        17426.0  \n",
       "200011                           0.0         Manager            NaN  \n",
       "200012                           1.0       Executive        17911.0  \n",
       "200013                           2.0       Executive        17661.0  \n",
       "200014                           0.0       Executive        17028.0  \n",
       "200015                           1.0  Senior Manager        24980.0  \n",
       "200016                           0.0       Executive        18298.0  \n",
       "200017                           0.0       Executive        17935.0  \n",
       "200018                           0.0             AVP        30427.0  \n",
       "200019                           1.0       Executive            NaN  "
      ]
     },
     "execution_count": 3,
     "metadata": {},
     "output_type": "execute_result"
    }
   ],
   "source": [
    "# Changing index to Customer_ID\n",
    "data.set_index('CustomerID',inplace=True)\n",
    "data.head(20)"
   ]
  },
  {
   "cell_type": "code",
   "execution_count": 4,
   "id": "4c0a2bed",
   "metadata": {},
   "outputs": [
    {
     "data": {
      "text/plain": [
       "(4888, 19)"
      ]
     },
     "execution_count": 4,
     "metadata": {},
     "output_type": "execute_result"
    }
   ],
   "source": [
    "data.shape"
   ]
  },
  {
   "cell_type": "markdown",
   "id": "8bbc4c20",
   "metadata": {},
   "source": [
    "This dataset has 4888 rows and 19 features."
   ]
  },
  {
   "cell_type": "code",
   "execution_count": 5,
   "id": "d9c2c966",
   "metadata": {},
   "outputs": [
    {
     "data": {
      "text/plain": [
       "Index(['ProdTaken', 'Age', 'TypeofContact', 'CityTier', 'DurationOfPitch',\n",
       "       'Occupation', 'Gender', 'NumberOfPersonVisiting', 'NumberOfFollowups',\n",
       "       'ProductPitched', 'PreferredPropertyStar', 'MaritalStatus',\n",
       "       'NumberOfTrips', 'Passport', 'PitchSatisfactionScore', 'OwnCar',\n",
       "       'NumberOfChildrenVisiting', 'Designation', 'MonthlyIncome'],\n",
       "      dtype='object')"
      ]
     },
     "execution_count": 5,
     "metadata": {},
     "output_type": "execute_result"
    }
   ],
   "source": [
    "data.columns"
   ]
  },
  {
   "cell_type": "markdown",
   "id": "eecbf786",
   "metadata": {},
   "source": [
    "These are the features in our data. We will look at some of them in detail.\n",
    "\n",
    "1. 'ProdTaken'- Whether the new product was purchased or not. 1 represents that it was purchased while 0 represents that it was not. This is our target column.\n",
    "2. 'Age'- Age of the customer\n",
    "3. 'TypeofContact'- Whether the customer came to know about the product through company invite or by self enquiry.\n",
    "4. 'CityTier'- values range from 1 to 3\n",
    "5. 'DurationOfPitch'- How long the product was pitched to the customer (in min)\n",
    "6. 'Occupation'- 'Salaried', 'Free Lancer', 'Small Business' or 'Large Business'\n",
    "7. 'ProductPitched'- 'Deluxe', 'Basic', 'Standard', 'Super Deluxe' or 'King'\n",
    "8. 'NumberOfFollowups'- number of follow up made by company ranging from 1 to 6\n",
    "8. 'Designation'- 'Manager', 'Executive', 'Senior Manager', 'AVP' or 'VP'"
   ]
  },
  {
   "cell_type": "code",
   "execution_count": 6,
   "id": "a8d882cc",
   "metadata": {},
   "outputs": [
    {
     "name": "stdout",
     "output_type": "stream",
     "text": [
      "<class 'pandas.core.frame.DataFrame'>\n",
      "Int64Index: 4888 entries, 200000 to 204887\n",
      "Data columns (total 19 columns):\n",
      " #   Column                    Non-Null Count  Dtype  \n",
      "---  ------                    --------------  -----  \n",
      " 0   ProdTaken                 4888 non-null   int64  \n",
      " 1   Age                       4662 non-null   float64\n",
      " 2   TypeofContact             4863 non-null   object \n",
      " 3   CityTier                  4888 non-null   int64  \n",
      " 4   DurationOfPitch           4637 non-null   float64\n",
      " 5   Occupation                4888 non-null   object \n",
      " 6   Gender                    4888 non-null   object \n",
      " 7   NumberOfPersonVisiting    4888 non-null   int64  \n",
      " 8   NumberOfFollowups         4843 non-null   float64\n",
      " 9   ProductPitched            4888 non-null   object \n",
      " 10  PreferredPropertyStar     4862 non-null   float64\n",
      " 11  MaritalStatus             4888 non-null   object \n",
      " 12  NumberOfTrips             4748 non-null   float64\n",
      " 13  Passport                  4888 non-null   int64  \n",
      " 14  PitchSatisfactionScore    4888 non-null   int64  \n",
      " 15  OwnCar                    4888 non-null   int64  \n",
      " 16  NumberOfChildrenVisiting  4822 non-null   float64\n",
      " 17  Designation               4888 non-null   object \n",
      " 18  MonthlyIncome             4655 non-null   float64\n",
      "dtypes: float64(7), int64(6), object(6)\n",
      "memory usage: 763.8+ KB\n"
     ]
    }
   ],
   "source": [
    "data.info()"
   ]
  },
  {
   "cell_type": "code",
   "execution_count": 7,
   "id": "e7b0adb7",
   "metadata": {},
   "outputs": [
    {
     "data": {
      "text/html": [
       "<div>\n",
       "<style scoped>\n",
       "    .dataframe tbody tr th:only-of-type {\n",
       "        vertical-align: middle;\n",
       "    }\n",
       "\n",
       "    .dataframe tbody tr th {\n",
       "        vertical-align: top;\n",
       "    }\n",
       "\n",
       "    .dataframe thead th {\n",
       "        text-align: right;\n",
       "    }\n",
       "</style>\n",
       "<table border=\"1\" class=\"dataframe\">\n",
       "  <thead>\n",
       "    <tr style=\"text-align: right;\">\n",
       "      <th></th>\n",
       "      <th>ProdTaken</th>\n",
       "      <th>Age</th>\n",
       "      <th>CityTier</th>\n",
       "      <th>DurationOfPitch</th>\n",
       "      <th>NumberOfPersonVisiting</th>\n",
       "      <th>NumberOfFollowups</th>\n",
       "      <th>PreferredPropertyStar</th>\n",
       "      <th>NumberOfTrips</th>\n",
       "      <th>Passport</th>\n",
       "      <th>PitchSatisfactionScore</th>\n",
       "      <th>OwnCar</th>\n",
       "      <th>NumberOfChildrenVisiting</th>\n",
       "      <th>MonthlyIncome</th>\n",
       "    </tr>\n",
       "  </thead>\n",
       "  <tbody>\n",
       "    <tr>\n",
       "      <th>count</th>\n",
       "      <td>4888.000000</td>\n",
       "      <td>4662.000000</td>\n",
       "      <td>4888.000000</td>\n",
       "      <td>4637.000000</td>\n",
       "      <td>4888.000000</td>\n",
       "      <td>4843.000000</td>\n",
       "      <td>4862.000000</td>\n",
       "      <td>4748.000000</td>\n",
       "      <td>4888.000000</td>\n",
       "      <td>4888.000000</td>\n",
       "      <td>4888.000000</td>\n",
       "      <td>4822.000000</td>\n",
       "      <td>4655.000000</td>\n",
       "    </tr>\n",
       "    <tr>\n",
       "      <th>mean</th>\n",
       "      <td>0.188216</td>\n",
       "      <td>37.622265</td>\n",
       "      <td>1.654255</td>\n",
       "      <td>15.490835</td>\n",
       "      <td>2.905074</td>\n",
       "      <td>3.708445</td>\n",
       "      <td>3.581037</td>\n",
       "      <td>3.236521</td>\n",
       "      <td>0.290917</td>\n",
       "      <td>3.078151</td>\n",
       "      <td>0.620295</td>\n",
       "      <td>1.187267</td>\n",
       "      <td>23619.853491</td>\n",
       "    </tr>\n",
       "    <tr>\n",
       "      <th>std</th>\n",
       "      <td>0.390925</td>\n",
       "      <td>9.316387</td>\n",
       "      <td>0.916583</td>\n",
       "      <td>8.519643</td>\n",
       "      <td>0.724891</td>\n",
       "      <td>1.002509</td>\n",
       "      <td>0.798009</td>\n",
       "      <td>1.849019</td>\n",
       "      <td>0.454232</td>\n",
       "      <td>1.365792</td>\n",
       "      <td>0.485363</td>\n",
       "      <td>0.857861</td>\n",
       "      <td>5380.698361</td>\n",
       "    </tr>\n",
       "    <tr>\n",
       "      <th>min</th>\n",
       "      <td>0.000000</td>\n",
       "      <td>18.000000</td>\n",
       "      <td>1.000000</td>\n",
       "      <td>5.000000</td>\n",
       "      <td>1.000000</td>\n",
       "      <td>1.000000</td>\n",
       "      <td>3.000000</td>\n",
       "      <td>1.000000</td>\n",
       "      <td>0.000000</td>\n",
       "      <td>1.000000</td>\n",
       "      <td>0.000000</td>\n",
       "      <td>0.000000</td>\n",
       "      <td>1000.000000</td>\n",
       "    </tr>\n",
       "    <tr>\n",
       "      <th>25%</th>\n",
       "      <td>0.000000</td>\n",
       "      <td>31.000000</td>\n",
       "      <td>1.000000</td>\n",
       "      <td>9.000000</td>\n",
       "      <td>2.000000</td>\n",
       "      <td>3.000000</td>\n",
       "      <td>3.000000</td>\n",
       "      <td>2.000000</td>\n",
       "      <td>0.000000</td>\n",
       "      <td>2.000000</td>\n",
       "      <td>0.000000</td>\n",
       "      <td>1.000000</td>\n",
       "      <td>20346.000000</td>\n",
       "    </tr>\n",
       "    <tr>\n",
       "      <th>50%</th>\n",
       "      <td>0.000000</td>\n",
       "      <td>36.000000</td>\n",
       "      <td>1.000000</td>\n",
       "      <td>13.000000</td>\n",
       "      <td>3.000000</td>\n",
       "      <td>4.000000</td>\n",
       "      <td>3.000000</td>\n",
       "      <td>3.000000</td>\n",
       "      <td>0.000000</td>\n",
       "      <td>3.000000</td>\n",
       "      <td>1.000000</td>\n",
       "      <td>1.000000</td>\n",
       "      <td>22347.000000</td>\n",
       "    </tr>\n",
       "    <tr>\n",
       "      <th>75%</th>\n",
       "      <td>0.000000</td>\n",
       "      <td>44.000000</td>\n",
       "      <td>3.000000</td>\n",
       "      <td>20.000000</td>\n",
       "      <td>3.000000</td>\n",
       "      <td>4.000000</td>\n",
       "      <td>4.000000</td>\n",
       "      <td>4.000000</td>\n",
       "      <td>1.000000</td>\n",
       "      <td>4.000000</td>\n",
       "      <td>1.000000</td>\n",
       "      <td>2.000000</td>\n",
       "      <td>25571.000000</td>\n",
       "    </tr>\n",
       "    <tr>\n",
       "      <th>max</th>\n",
       "      <td>1.000000</td>\n",
       "      <td>61.000000</td>\n",
       "      <td>3.000000</td>\n",
       "      <td>127.000000</td>\n",
       "      <td>5.000000</td>\n",
       "      <td>6.000000</td>\n",
       "      <td>5.000000</td>\n",
       "      <td>22.000000</td>\n",
       "      <td>1.000000</td>\n",
       "      <td>5.000000</td>\n",
       "      <td>1.000000</td>\n",
       "      <td>3.000000</td>\n",
       "      <td>98678.000000</td>\n",
       "    </tr>\n",
       "  </tbody>\n",
       "</table>\n",
       "</div>"
      ],
      "text/plain": [
       "         ProdTaken          Age     CityTier  DurationOfPitch  \\\n",
       "count  4888.000000  4662.000000  4888.000000      4637.000000   \n",
       "mean      0.188216    37.622265     1.654255        15.490835   \n",
       "std       0.390925     9.316387     0.916583         8.519643   \n",
       "min       0.000000    18.000000     1.000000         5.000000   \n",
       "25%       0.000000    31.000000     1.000000         9.000000   \n",
       "50%       0.000000    36.000000     1.000000        13.000000   \n",
       "75%       0.000000    44.000000     3.000000        20.000000   \n",
       "max       1.000000    61.000000     3.000000       127.000000   \n",
       "\n",
       "       NumberOfPersonVisiting  NumberOfFollowups  PreferredPropertyStar  \\\n",
       "count             4888.000000        4843.000000            4862.000000   \n",
       "mean                 2.905074           3.708445               3.581037   \n",
       "std                  0.724891           1.002509               0.798009   \n",
       "min                  1.000000           1.000000               3.000000   \n",
       "25%                  2.000000           3.000000               3.000000   \n",
       "50%                  3.000000           4.000000               3.000000   \n",
       "75%                  3.000000           4.000000               4.000000   \n",
       "max                  5.000000           6.000000               5.000000   \n",
       "\n",
       "       NumberOfTrips     Passport  PitchSatisfactionScore       OwnCar  \\\n",
       "count    4748.000000  4888.000000             4888.000000  4888.000000   \n",
       "mean        3.236521     0.290917                3.078151     0.620295   \n",
       "std         1.849019     0.454232                1.365792     0.485363   \n",
       "min         1.000000     0.000000                1.000000     0.000000   \n",
       "25%         2.000000     0.000000                2.000000     0.000000   \n",
       "50%         3.000000     0.000000                3.000000     1.000000   \n",
       "75%         4.000000     1.000000                4.000000     1.000000   \n",
       "max        22.000000     1.000000                5.000000     1.000000   \n",
       "\n",
       "       NumberOfChildrenVisiting  MonthlyIncome  \n",
       "count               4822.000000    4655.000000  \n",
       "mean                   1.187267   23619.853491  \n",
       "std                    0.857861    5380.698361  \n",
       "min                    0.000000    1000.000000  \n",
       "25%                    1.000000   20346.000000  \n",
       "50%                    1.000000   22347.000000  \n",
       "75%                    2.000000   25571.000000  \n",
       "max                    3.000000   98678.000000  "
      ]
     },
     "execution_count": 7,
     "metadata": {},
     "output_type": "execute_result"
    }
   ],
   "source": [
    "data.describe()"
   ]
  },
  {
   "cell_type": "markdown",
   "id": "dcfad1ae",
   "metadata": {},
   "source": [
    "There are 6 categorical features and 12 numeric features out of which only one is continuous. Presence of null values can be observed in 8 of the features."
   ]
  },
  {
   "cell_type": "markdown",
   "id": "21b8d345",
   "metadata": {},
   "source": [
    "### Exploratory Data Analysis"
   ]
  },
  {
   "cell_type": "code",
   "execution_count": 8,
   "id": "505dd3d3",
   "metadata": {},
   "outputs": [
    {
     "data": {
      "text/plain": [
       "ProdTaken                      2\n",
       "Age                           44\n",
       "TypeofContact                  2\n",
       "CityTier                       3\n",
       "DurationOfPitch               34\n",
       "Occupation                     4\n",
       "Gender                         3\n",
       "NumberOfPersonVisiting         5\n",
       "NumberOfFollowups              6\n",
       "ProductPitched                 5\n",
       "PreferredPropertyStar          3\n",
       "MaritalStatus                  4\n",
       "NumberOfTrips                 12\n",
       "Passport                       2\n",
       "PitchSatisfactionScore         5\n",
       "OwnCar                         2\n",
       "NumberOfChildrenVisiting       4\n",
       "Designation                    5\n",
       "MonthlyIncome               2475\n",
       "dtype: int64"
      ]
     },
     "execution_count": 8,
     "metadata": {},
     "output_type": "execute_result"
    }
   ],
   "source": [
    "data.nunique()"
   ]
  },
  {
   "cell_type": "code",
   "execution_count": 9,
   "id": "df662139",
   "metadata": {},
   "outputs": [
    {
     "data": {
      "text/plain": [
       "array(['Female', 'Male', 'Fe Male'], dtype=object)"
      ]
     },
     "execution_count": 9,
     "metadata": {},
     "output_type": "execute_result"
    }
   ],
   "source": [
    "data['Gender'].unique()"
   ]
  },
  {
   "cell_type": "code",
   "execution_count": 10,
   "id": "aac0f63b",
   "metadata": {},
   "outputs": [
    {
     "data": {
      "text/plain": [
       "array(['Single', 'Divorced', 'Married', 'Unmarried'], dtype=object)"
      ]
     },
     "execution_count": 10,
     "metadata": {},
     "output_type": "execute_result"
    }
   ],
   "source": [
    "data['MaritalStatus'].unique()"
   ]
  },
  {
   "cell_type": "markdown",
   "id": "fd006023",
   "metadata": {},
   "source": [
    "Here Female has been mistyped as Fe Male in few rows which need to be replaced. Also, the columns unmarried and single can be merged."
   ]
  },
  {
   "cell_type": "code",
   "execution_count": 11,
   "id": "f1c9936a",
   "metadata": {},
   "outputs": [],
   "source": [
    "data.replace(to_replace='Fe Male',value='Female',inplace=True)\n",
    "data.replace(to_replace='Unmarried',value='Single',inplace=True)"
   ]
  },
  {
   "cell_type": "markdown",
   "id": "78f469a8",
   "metadata": {},
   "source": [
    "##### Visualizations"
   ]
  },
  {
   "cell_type": "code",
   "execution_count": 12,
   "id": "2974d44f",
   "metadata": {},
   "outputs": [
    {
     "data": {
      "text/plain": [
       "<AxesSubplot:xlabel='ProdTaken', ylabel='count'>"
      ]
     },
     "execution_count": 12,
     "metadata": {},
     "output_type": "execute_result"
    },
    {
     "data": {
      "image/png": "[encoded data removed]",
      "text/plain": [
       "<Figure size 432x288 with 1 Axes>"
      ]
     },
     "metadata": {
      "needs_background": "light"
     },
     "output_type": "display_data"
    }
   ],
   "source": [
    "sns.countplot(x='ProdTaken',data=data,palette='RdYlBu_r')"
   ]
  },
  {
   "cell_type": "markdown",
   "id": "6366d591",
   "metadata": {},
   "source": [
    "It can be seen that our data contains a lower proportion of information about people who purchased the new plan."
   ]
  },
  {
   "cell_type": "markdown",
   "id": "ce7fa972",
   "metadata": {},
   "source": [
    "##### Plots showing influence of different features in the data on the purchase of the new product"
   ]
  },
  {
   "cell_type": "code",
   "execution_count": 13,
   "id": "8bbdccdb",
   "metadata": {},
   "outputs": [
    {
     "data": {
      "image/png": "[encoded data removed]",
      "text/plain": [
       "<Figure size 1440x1440 with 6 Axes>"
      ]
     },
     "metadata": {
      "needs_background": "light"
     },
     "output_type": "display_data"
    }
   ],
   "source": [
    "plt.figure(figsize=(20,20))\n",
    "\n",
    "lst=['TypeofContact','CityTier','Occupation','Gender','MaritalStatus','Passport']\n",
    "for i in lst:\n",
    "    plt.subplot(3,3,lst.index(i)+1)\n",
    "    sns.countplot(x=i,data=data,hue=data['ProdTaken'])\n",
    "    plt.xticks(rotation=45)"
   ]
  },
  {
   "cell_type": "code",
   "execution_count": 14,
   "id": "9bc62816",
   "metadata": {},
   "outputs": [
    {
     "data": {
      "image/png": "[encoded data removed]",
      "text/plain": [
       "<Figure size 504x504 with 1 Axes>"
      ]
     },
     "metadata": {
      "needs_background": "light"
     },
     "output_type": "display_data"
    }
   ],
   "source": [
    "plt.figure(figsize=(7,7))\n",
    "plt.hist(x='MonthlyIncome',data=data,bins=50,color='purple')\n",
    "plt.show()"
   ]
  },
  {
   "cell_type": "markdown",
   "id": "94ea39cb",
   "metadata": {},
   "source": [
    "Average monthly income of the customers lie around 25000 but there are certain high values as well beacause of which the distribution can be seen to be right skewed. But this tendency is normal for income data due to presence of large values."
   ]
  },
  {
   "cell_type": "code",
   "execution_count": 15,
   "id": "aa2eb8b1",
   "metadata": {},
   "outputs": [
    {
     "data": {
      "text/plain": [
       "<AxesSubplot:>"
      ]
     },
     "execution_count": 15,
     "metadata": {},
     "output_type": "execute_result"
    },
    {
     "data": {
      "image/png": "[encoded data removed]",
      "text/plain": [
       "<Figure size 720x720 with 2 Axes>"
      ]
     },
     "metadata": {
      "needs_background": "light"
     },
     "output_type": "display_data"
    }
   ],
   "source": [
    "plt.figure(figsize=(10,10))\n",
    "sns.heatmap(data.corr(),cmap='Blues_r',annot=True)"
   ]
  },
  {
   "cell_type": "markdown",
   "id": "22fdde36",
   "metadata": {},
   "source": [
    "This shows the correlation between different numerical features in the data.\n",
    "\n",
    "Among these features, age, passport and monthly income are the most correlated with our target variable while number of children visiting and number of people visiting show very less linear correlation with product taken."
   ]
  },
  {
   "cell_type": "code",
   "execution_count": 16,
   "id": "36ba7d39",
   "metadata": {},
   "outputs": [
    {
     "data": {
      "text/plain": [
       "<matplotlib.collections.PathCollection at 0x2bbf8d41910>"
      ]
     },
     "execution_count": 16,
     "metadata": {},
     "output_type": "execute_result"
    },
    {
     "data": {
      "image/png": "[encoded data removed]",
      "text/plain": [
       "<Figure size 720x720 with 1 Axes>"
      ]
     },
     "metadata": {
      "needs_background": "light"
     },
     "output_type": "display_data"
    }
   ],
   "source": [
    "plt.figure(figsize=(10,10))\n",
    "plt.scatter(x='Age',y='MonthlyIncome',data=data)"
   ]
  },
  {
   "cell_type": "markdown",
   "id": "b9bed01a",
   "metadata": {},
   "source": [
    "Customers with age less than 40 have lower income compared to those above 40. This can be used to suggest chaper options for lower age groups."
   ]
  },
  {
   "cell_type": "code",
   "execution_count": 17,
   "id": "db4ee2ac",
   "metadata": {},
   "outputs": [
    {
     "data": {
      "image/png": "[encoded data removed]",
      "text/plain": [
       "<Figure size 720x720 with 1 Axes>"
      ]
     },
     "metadata": {
      "needs_background": "light"
     },
     "output_type": "display_data"
    }
   ],
   "source": [
    "plt.figure(figsize=(10,10))\n",
    "sns.violinplot(x='ProdTaken',y='DurationOfPitch',data=data,)\n",
    "plt.grid()"
   ]
  },
  {
   "cell_type": "markdown",
   "id": "5dd8f93e",
   "metadata": {},
   "source": [
    "From this plot it can be seen that longer the pitch, higher are the chances that the new product is purchased."
   ]
  },
  {
   "cell_type": "markdown",
   "id": "9cf53036",
   "metadata": {},
   "source": [
    "### Missing value handling"
   ]
  },
  {
   "cell_type": "code",
   "execution_count": 18,
   "id": "5d9104aa",
   "metadata": {},
   "outputs": [
    {
     "data": {
      "text/plain": [
       "ProdTaken                     0\n",
       "Age                         226\n",
       "TypeofContact                25\n",
       "CityTier                      0\n",
       "DurationOfPitch             251\n",
       "Occupation                    0\n",
       "Gender                        0\n",
       "NumberOfPersonVisiting        0\n",
       "NumberOfFollowups            45\n",
       "ProductPitched                0\n",
       "PreferredPropertyStar        26\n",
       "MaritalStatus                 0\n",
       "NumberOfTrips               140\n",
       "Passport                      0\n",
       "PitchSatisfactionScore        0\n",
       "OwnCar                        0\n",
       "NumberOfChildrenVisiting     66\n",
       "Designation                   0\n",
       "MonthlyIncome               233\n",
       "dtype: int64"
      ]
     },
     "execution_count": 18,
     "metadata": {},
     "output_type": "execute_result"
    }
   ],
   "source": [
    "data.isnull().sum()"
   ]
  },
  {
   "cell_type": "code",
   "execution_count": 19,
   "id": "2c7baafd",
   "metadata": {},
   "outputs": [],
   "source": [
    "for i in ['Age','DurationOfPitch','NumberOfFollowups','PreferredPropertyStar','NumberOfTrips','NumberOfChildrenVisiting','MonthlyIncome']:\n",
    "    data[i]=data[i].fillna(data[i].median())\n",
    "    \n",
    "data['TypeofContact']=data['TypeofContact'].fillna(data['TypeofContact'].mode()[0])"
   ]
  },
  {
   "cell_type": "code",
   "execution_count": 20,
   "id": "340eda6a",
   "metadata": {},
   "outputs": [
    {
     "data": {
      "text/plain": [
       "ProdTaken                   0\n",
       "Age                         0\n",
       "TypeofContact               0\n",
       "CityTier                    0\n",
       "DurationOfPitch             0\n",
       "Occupation                  0\n",
       "Gender                      0\n",
       "NumberOfPersonVisiting      0\n",
       "NumberOfFollowups           0\n",
       "ProductPitched              0\n",
       "PreferredPropertyStar       0\n",
       "MaritalStatus               0\n",
       "NumberOfTrips               0\n",
       "Passport                    0\n",
       "PitchSatisfactionScore      0\n",
       "OwnCar                      0\n",
       "NumberOfChildrenVisiting    0\n",
       "Designation                 0\n",
       "MonthlyIncome               0\n",
       "dtype: int64"
      ]
     },
     "execution_count": 20,
     "metadata": {},
     "output_type": "execute_result"
    }
   ],
   "source": [
    "data.isnull().sum()"
   ]
  },
  {
   "cell_type": "markdown",
   "id": "ff9b6cfe",
   "metadata": {},
   "source": [
    "### Outlier detection"
   ]
  },
  {
   "cell_type": "code",
   "execution_count": 21,
   "id": "42ee243d",
   "metadata": {},
   "outputs": [
    {
     "data": {
      "text/plain": [
       "<AxesSubplot:>"
      ]
     },
     "execution_count": 21,
     "metadata": {},
     "output_type": "execute_result"
    },
    {
     "data": {
      "image/png": "[encoded data removed]",
      "text/plain": [
       "<Figure size 432x288 with 1 Axes>"
      ]
     },
     "metadata": {
      "needs_background": "light"
     },
     "output_type": "display_data"
    }
   ],
   "source": [
    "data['DurationOfPitch'].plot(kind='box')"
   ]
  },
  {
   "cell_type": "code",
   "execution_count": 22,
   "id": "4d39d056",
   "metadata": {},
   "outputs": [
    {
     "data": {
      "text/plain": [
       "<AxesSubplot:>"
      ]
     },
     "execution_count": 22,
     "metadata": {},
     "output_type": "execute_result"
    },
    {
     "data": {
      "image/png": "[encoded data removed]",
      "text/plain": [
       "<Figure size 432x288 with 1 Axes>"
      ]
     },
     "metadata": {
      "needs_background": "light"
     },
     "output_type": "display_data"
    }
   ],
   "source": [
    "data['NumberOfTrips'].plot(kind='box')"
   ]
  },
  {
   "cell_type": "markdown",
   "id": "f23ed010",
   "metadata": {},
   "source": [
    " But these cannot be considered outliers since they are possible use cases."
   ]
  },
  {
   "cell_type": "code",
   "execution_count": 23,
   "id": "1085bc19",
   "metadata": {},
   "outputs": [
    {
     "data": {
      "text/plain": [
       "<AxesSubplot:>"
      ]
     },
     "execution_count": 23,
     "metadata": {},
     "output_type": "execute_result"
    },
    {
     "data": {
      "image/png": "[encoded data removed]",
      "text/plain": [
       "<Figure size 432x288 with 1 Axes>"
      ]
     },
     "metadata": {
      "needs_background": "light"
     },
     "output_type": "display_data"
    }
   ],
   "source": [
    "data['MonthlyIncome'].plot(kind='box')"
   ]
  },
  {
   "cell_type": "markdown",
   "id": "7e228b05",
   "metadata": {},
   "source": [
    "Monthly income of customers have very low values that seem to be misrecorded and can be considered as outliers. We handle those values using the IQR method"
   ]
  },
  {
   "cell_type": "code",
   "execution_count": 24,
   "id": "3cdc593f",
   "metadata": {},
   "outputs": [
    {
     "name": "stdout",
     "output_type": "stream",
     "text": [
      "Upper limit- 32834.375 \n",
      "Lower Limit- 13075.375\n",
      "\n",
      "The outliers - [1000.0, 4678.0]\n"
     ]
    }
   ],
   "source": [
    "Q1 = np.percentile(data['MonthlyIncome'],25)\n",
    "Q2 = np.percentile(data['MonthlyIncome'],50)\n",
    "Q3 = np.percentile(data['MonthlyIncome'],75)\n",
    "IQR = Q3 - Q1\n",
    "lower_limit = Q1 - 1.5*IQR\n",
    "upper_limit = Q3 + 1.5*IQR\n",
    "print('Upper limit-', upper_limit, '\\nLower Limit-', lower_limit)\n",
    "outlier = list()\n",
    "for each in data['MonthlyIncome']:\n",
    "  \t\t  if (each < lower_limit):\n",
    "       \t\t\t outlier.append(each)\n",
    "print('\\nThe outliers -',outlier)"
   ]
  },
  {
   "cell_type": "code",
   "execution_count": 25,
   "id": "7e9290cf",
   "metadata": {},
   "outputs": [],
   "source": [
    "index_dropped = data[(data['MonthlyIncome'] < lower_limit)].index\n",
    "data.drop(index_dropped,inplace=True)"
   ]
  },
  {
   "cell_type": "markdown",
   "id": "29a70a0f",
   "metadata": {},
   "source": [
    "### Feature reduction"
   ]
  },
  {
   "cell_type": "code",
   "execution_count": 26,
   "id": "413f60a4",
   "metadata": {
    "scrolled": true
   },
   "outputs": [
    {
     "data": {
      "text/html": [
       "<div>\n",
       "<style scoped>\n",
       "    .dataframe tbody tr th:only-of-type {\n",
       "        vertical-align: middle;\n",
       "    }\n",
       "\n",
       "    .dataframe tbody tr th {\n",
       "        vertical-align: top;\n",
       "    }\n",
       "\n",
       "    .dataframe thead th {\n",
       "        text-align: right;\n",
       "    }\n",
       "</style>\n",
       "<table border=\"1\" class=\"dataframe\">\n",
       "  <thead>\n",
       "    <tr style=\"text-align: right;\">\n",
       "      <th></th>\n",
       "      <th>ProdTaken</th>\n",
       "      <th>Age</th>\n",
       "      <th>CityTier</th>\n",
       "      <th>DurationOfPitch</th>\n",
       "      <th>NumberOfPersonVisiting</th>\n",
       "      <th>NumberOfFollowups</th>\n",
       "      <th>PreferredPropertyStar</th>\n",
       "      <th>NumberOfTrips</th>\n",
       "      <th>Passport</th>\n",
       "      <th>PitchSatisfactionScore</th>\n",
       "      <th>OwnCar</th>\n",
       "      <th>NumberOfChildrenVisiting</th>\n",
       "      <th>MonthlyIncome</th>\n",
       "    </tr>\n",
       "  </thead>\n",
       "  <tbody>\n",
       "    <tr>\n",
       "      <th>ProdTaken</th>\n",
       "      <td>1.000000</td>\n",
       "      <td>-0.143740</td>\n",
       "      <td>0.086724</td>\n",
       "      <td>0.076354</td>\n",
       "      <td>0.009519</td>\n",
       "      <td>0.111530</td>\n",
       "      <td>0.098576</td>\n",
       "      <td>0.019850</td>\n",
       "      <td>0.261295</td>\n",
       "      <td>0.051695</td>\n",
       "      <td>-0.011765</td>\n",
       "      <td>0.007852</td>\n",
       "      <td>-0.127612</td>\n",
       "    </tr>\n",
       "    <tr>\n",
       "      <th>Age</th>\n",
       "      <td>-0.143740</td>\n",
       "      <td>1.000000</td>\n",
       "      <td>-0.012724</td>\n",
       "      <td>-0.006233</td>\n",
       "      <td>0.017867</td>\n",
       "      <td>0.001680</td>\n",
       "      <td>-0.015903</td>\n",
       "      <td>0.174678</td>\n",
       "      <td>0.032347</td>\n",
       "      <td>0.017339</td>\n",
       "      <td>0.047427</td>\n",
       "      <td>0.008509</td>\n",
       "      <td>0.462930</td>\n",
       "    </tr>\n",
       "    <tr>\n",
       "      <th>CityTier</th>\n",
       "      <td>0.086724</td>\n",
       "      <td>-0.012724</td>\n",
       "      <td>1.000000</td>\n",
       "      <td>0.019243</td>\n",
       "      <td>-0.001835</td>\n",
       "      <td>0.024275</td>\n",
       "      <td>-0.008693</td>\n",
       "      <td>-0.028551</td>\n",
       "      <td>0.002251</td>\n",
       "      <td>-0.041770</td>\n",
       "      <td>0.003445</td>\n",
       "      <td>0.000344</td>\n",
       "      <td>0.050806</td>\n",
       "    </tr>\n",
       "    <tr>\n",
       "      <th>DurationOfPitch</th>\n",
       "      <td>0.076354</td>\n",
       "      <td>-0.006233</td>\n",
       "      <td>0.019243</td>\n",
       "      <td>1.000000</td>\n",
       "      <td>0.073004</td>\n",
       "      <td>0.015444</td>\n",
       "      <td>-0.005653</td>\n",
       "      <td>0.014350</td>\n",
       "      <td>0.033997</td>\n",
       "      <td>-0.002147</td>\n",
       "      <td>-0.002875</td>\n",
       "      <td>0.037880</td>\n",
       "      <td>0.002206</td>\n",
       "    </tr>\n",
       "    <tr>\n",
       "      <th>NumberOfPersonVisiting</th>\n",
       "      <td>0.009519</td>\n",
       "      <td>0.017867</td>\n",
       "      <td>-0.001835</td>\n",
       "      <td>0.073004</td>\n",
       "      <td>1.000000</td>\n",
       "      <td>0.324777</td>\n",
       "      <td>0.030361</td>\n",
       "      <td>0.190247</td>\n",
       "      <td>0.011542</td>\n",
       "      <td>-0.019270</td>\n",
       "      <td>0.010075</td>\n",
       "      <td>0.606192</td>\n",
       "      <td>0.198116</td>\n",
       "    </tr>\n",
       "    <tr>\n",
       "      <th>NumberOfFollowups</th>\n",
       "      <td>0.111530</td>\n",
       "      <td>0.001680</td>\n",
       "      <td>0.024275</td>\n",
       "      <td>0.015444</td>\n",
       "      <td>0.324777</td>\n",
       "      <td>1.000000</td>\n",
       "      <td>-0.027057</td>\n",
       "      <td>0.135131</td>\n",
       "      <td>0.004548</td>\n",
       "      <td>0.004529</td>\n",
       "      <td>0.012081</td>\n",
       "      <td>0.281467</td>\n",
       "      <td>0.176084</td>\n",
       "    </tr>\n",
       "    <tr>\n",
       "      <th>PreferredPropertyStar</th>\n",
       "      <td>0.098576</td>\n",
       "      <td>-0.015903</td>\n",
       "      <td>-0.008693</td>\n",
       "      <td>-0.005653</td>\n",
       "      <td>0.030361</td>\n",
       "      <td>-0.027057</td>\n",
       "      <td>1.000000</td>\n",
       "      <td>0.009641</td>\n",
       "      <td>0.001686</td>\n",
       "      <td>-0.023614</td>\n",
       "      <td>0.013204</td>\n",
       "      <td>0.031133</td>\n",
       "      <td>-0.001683</td>\n",
       "    </tr>\n",
       "    <tr>\n",
       "      <th>NumberOfTrips</th>\n",
       "      <td>0.019850</td>\n",
       "      <td>0.174678</td>\n",
       "      <td>-0.028551</td>\n",
       "      <td>0.014350</td>\n",
       "      <td>0.190247</td>\n",
       "      <td>0.135131</td>\n",
       "      <td>0.009641</td>\n",
       "      <td>1.000000</td>\n",
       "      <td>0.012488</td>\n",
       "      <td>-0.004905</td>\n",
       "      <td>-0.011804</td>\n",
       "      <td>0.161236</td>\n",
       "      <td>0.116683</td>\n",
       "    </tr>\n",
       "    <tr>\n",
       "      <th>Passport</th>\n",
       "      <td>0.261295</td>\n",
       "      <td>0.032347</td>\n",
       "      <td>0.002251</td>\n",
       "      <td>0.033997</td>\n",
       "      <td>0.011542</td>\n",
       "      <td>0.004548</td>\n",
       "      <td>0.001686</td>\n",
       "      <td>0.012488</td>\n",
       "      <td>1.000000</td>\n",
       "      <td>0.002028</td>\n",
       "      <td>-0.021531</td>\n",
       "      <td>0.020772</td>\n",
       "      <td>0.005873</td>\n",
       "    </tr>\n",
       "    <tr>\n",
       "      <th>PitchSatisfactionScore</th>\n",
       "      <td>0.051695</td>\n",
       "      <td>0.017339</td>\n",
       "      <td>-0.041770</td>\n",
       "      <td>-0.002147</td>\n",
       "      <td>-0.019270</td>\n",
       "      <td>0.004529</td>\n",
       "      <td>-0.023614</td>\n",
       "      <td>-0.004905</td>\n",
       "      <td>0.002028</td>\n",
       "      <td>1.000000</td>\n",
       "      <td>0.069638</td>\n",
       "      <td>0.000715</td>\n",
       "      <td>0.031291</td>\n",
       "    </tr>\n",
       "    <tr>\n",
       "      <th>OwnCar</th>\n",
       "      <td>-0.011765</td>\n",
       "      <td>0.047427</td>\n",
       "      <td>0.003445</td>\n",
       "      <td>-0.002875</td>\n",
       "      <td>0.010075</td>\n",
       "      <td>0.012081</td>\n",
       "      <td>0.013204</td>\n",
       "      <td>-0.011804</td>\n",
       "      <td>-0.021531</td>\n",
       "      <td>0.069638</td>\n",
       "      <td>1.000000</td>\n",
       "      <td>0.025252</td>\n",
       "      <td>0.076668</td>\n",
       "    </tr>\n",
       "    <tr>\n",
       "      <th>NumberOfChildrenVisiting</th>\n",
       "      <td>0.007852</td>\n",
       "      <td>0.008509</td>\n",
       "      <td>0.000344</td>\n",
       "      <td>0.037880</td>\n",
       "      <td>0.606192</td>\n",
       "      <td>0.281467</td>\n",
       "      <td>0.031133</td>\n",
       "      <td>0.161236</td>\n",
       "      <td>0.020772</td>\n",
       "      <td>0.000715</td>\n",
       "      <td>0.025252</td>\n",
       "      <td>1.000000</td>\n",
       "      <td>0.188949</td>\n",
       "    </tr>\n",
       "    <tr>\n",
       "      <th>MonthlyIncome</th>\n",
       "      <td>-0.127612</td>\n",
       "      <td>0.462930</td>\n",
       "      <td>0.050806</td>\n",
       "      <td>0.002206</td>\n",
       "      <td>0.198116</td>\n",
       "      <td>0.176084</td>\n",
       "      <td>-0.001683</td>\n",
       "      <td>0.116683</td>\n",
       "      <td>0.005873</td>\n",
       "      <td>0.031291</td>\n",
       "      <td>0.076668</td>\n",
       "      <td>0.188949</td>\n",
       "      <td>1.000000</td>\n",
       "    </tr>\n",
       "  </tbody>\n",
       "</table>\n",
       "</div>"
      ],
      "text/plain": [
       "                          ProdTaken       Age  CityTier  DurationOfPitch  \\\n",
       "ProdTaken                  1.000000 -0.143740  0.086724         0.076354   \n",
       "Age                       -0.143740  1.000000 -0.012724        -0.006233   \n",
       "CityTier                   0.086724 -0.012724  1.000000         0.019243   \n",
       "DurationOfPitch            0.076354 -0.006233  0.019243         1.000000   \n",
       "NumberOfPersonVisiting     0.009519  0.017867 -0.001835         0.073004   \n",
       "NumberOfFollowups          0.111530  0.001680  0.024275         0.015444   \n",
       "PreferredPropertyStar      0.098576 -0.015903 -0.008693        -0.005653   \n",
       "NumberOfTrips              0.019850  0.174678 -0.028551         0.014350   \n",
       "Passport                   0.261295  0.032347  0.002251         0.033997   \n",
       "PitchSatisfactionScore     0.051695  0.017339 -0.041770        -0.002147   \n",
       "OwnCar                    -0.011765  0.047427  0.003445        -0.002875   \n",
       "NumberOfChildrenVisiting   0.007852  0.008509  0.000344         0.037880   \n",
       "MonthlyIncome             -0.127612  0.462930  0.050806         0.002206   \n",
       "\n",
       "                          NumberOfPersonVisiting  NumberOfFollowups  \\\n",
       "ProdTaken                               0.009519           0.111530   \n",
       "Age                                     0.017867           0.001680   \n",
       "CityTier                               -0.001835           0.024275   \n",
       "DurationOfPitch                         0.073004           0.015444   \n",
       "NumberOfPersonVisiting                  1.000000           0.324777   \n",
       "NumberOfFollowups                       0.324777           1.000000   \n",
       "PreferredPropertyStar                   0.030361          -0.027057   \n",
       "NumberOfTrips                           0.190247           0.135131   \n",
       "Passport                                0.011542           0.004548   \n",
       "PitchSatisfactionScore                 -0.019270           0.004529   \n",
       "OwnCar                                  0.010075           0.012081   \n",
       "NumberOfChildrenVisiting                0.606192           0.281467   \n",
       "MonthlyIncome                           0.198116           0.176084   \n",
       "\n",
       "                          PreferredPropertyStar  NumberOfTrips  Passport  \\\n",
       "ProdTaken                              0.098576       0.019850  0.261295   \n",
       "Age                                   -0.015903       0.174678  0.032347   \n",
       "CityTier                              -0.008693      -0.028551  0.002251   \n",
       "DurationOfPitch                       -0.005653       0.014350  0.033997   \n",
       "NumberOfPersonVisiting                 0.030361       0.190247  0.011542   \n",
       "NumberOfFollowups                     -0.027057       0.135131  0.004548   \n",
       "PreferredPropertyStar                  1.000000       0.009641  0.001686   \n",
       "NumberOfTrips                          0.009641       1.000000  0.012488   \n",
       "Passport                               0.001686       0.012488  1.000000   \n",
       "PitchSatisfactionScore                -0.023614      -0.004905  0.002028   \n",
       "OwnCar                                 0.013204      -0.011804 -0.021531   \n",
       "NumberOfChildrenVisiting               0.031133       0.161236  0.020772   \n",
       "MonthlyIncome                         -0.001683       0.116683  0.005873   \n",
       "\n",
       "                          PitchSatisfactionScore    OwnCar  \\\n",
       "ProdTaken                               0.051695 -0.011765   \n",
       "Age                                     0.017339  0.047427   \n",
       "CityTier                               -0.041770  0.003445   \n",
       "DurationOfPitch                        -0.002147 -0.002875   \n",
       "NumberOfPersonVisiting                 -0.019270  0.010075   \n",
       "NumberOfFollowups                       0.004529  0.012081   \n",
       "PreferredPropertyStar                  -0.023614  0.013204   \n",
       "NumberOfTrips                          -0.004905 -0.011804   \n",
       "Passport                                0.002028 -0.021531   \n",
       "PitchSatisfactionScore                  1.000000  0.069638   \n",
       "OwnCar                                  0.069638  1.000000   \n",
       "NumberOfChildrenVisiting                0.000715  0.025252   \n",
       "MonthlyIncome                           0.031291  0.076668   \n",
       "\n",
       "                          NumberOfChildrenVisiting  MonthlyIncome  \n",
       "ProdTaken                                 0.007852      -0.127612  \n",
       "Age                                       0.008509       0.462930  \n",
       "CityTier                                  0.000344       0.050806  \n",
       "DurationOfPitch                           0.037880       0.002206  \n",
       "NumberOfPersonVisiting                    0.606192       0.198116  \n",
       "NumberOfFollowups                         0.281467       0.176084  \n",
       "PreferredPropertyStar                     0.031133      -0.001683  \n",
       "NumberOfTrips                             0.161236       0.116683  \n",
       "Passport                                  0.020772       0.005873  \n",
       "PitchSatisfactionScore                    0.000715       0.031291  \n",
       "OwnCar                                    0.025252       0.076668  \n",
       "NumberOfChildrenVisiting                  1.000000       0.188949  \n",
       "MonthlyIncome                             0.188949       1.000000  "
      ]
     },
     "execution_count": 26,
     "metadata": {},
     "output_type": "execute_result"
    }
   ],
   "source": [
    "data.corr()"
   ]
  },
  {
   "cell_type": "code",
   "execution_count": 27,
   "id": "c3ab985c",
   "metadata": {},
   "outputs": [
    {
     "data": {
      "text/plain": [
       "<AxesSubplot:>"
      ]
     },
     "execution_count": 27,
     "metadata": {},
     "output_type": "execute_result"
    },
    {
     "data": {
      "image/png": "[encoded data removed]",
      "text/plain": [
       "<Figure size 720x720 with 2 Axes>"
      ]
     },
     "metadata": {
      "needs_background": "light"
     },
     "output_type": "display_data"
    }
   ],
   "source": [
    "plt.figure(figsize=(10,10))\n",
    "sns.heatmap(data.corr(),cmap='Blues_r',annot=True)"
   ]
  },
  {
   "cell_type": "markdown",
   "id": "5679e628",
   "metadata": {},
   "source": [
    "Here the features Number of children visiting and Number of people visiting are highly correlated to each other. So we can drop the first one.\n",
    "\n",
    "Also the designation of a person will be related to his/her salary and thus can be dropped."
   ]
  },
  {
   "cell_type": "code",
   "execution_count": 28,
   "id": "1d0ff14e",
   "metadata": {},
   "outputs": [],
   "source": [
    "data.drop(['NumberOfChildrenVisiting','Designation'],axis=1,inplace=True)"
   ]
  },
  {
   "cell_type": "code",
   "execution_count": 29,
   "id": "5bbaa8c6",
   "metadata": {},
   "outputs": [
    {
     "data": {
      "text/plain": [
       "(4886, 17)"
      ]
     },
     "execution_count": 29,
     "metadata": {},
     "output_type": "execute_result"
    }
   ],
   "source": [
    "data.shape"
   ]
  },
  {
   "cell_type": "markdown",
   "id": "76a953a9",
   "metadata": {},
   "source": [
    "Now we have 4886 examples and 17 features for building the prediction model."
   ]
  },
  {
   "cell_type": "code",
   "execution_count": 30,
   "id": "68263344",
   "metadata": {},
   "outputs": [],
   "source": [
    "# Seperating the independent and target features\n",
    "x=data.drop('ProdTaken',axis=1)\n",
    "y=data['ProdTaken']"
   ]
  },
  {
   "cell_type": "markdown",
   "id": "6ba63f69",
   "metadata": {},
   "source": [
    "### Encoding"
   ]
  },
  {
   "cell_type": "code",
   "execution_count": 31,
   "id": "1c248146",
   "metadata": {},
   "outputs": [
    {
     "data": {
      "text/html": [
       "<div>\n",
       "<style scoped>\n",
       "    .dataframe tbody tr th:only-of-type {\n",
       "        vertical-align: middle;\n",
       "    }\n",
       "\n",
       "    .dataframe tbody tr th {\n",
       "        vertical-align: top;\n",
       "    }\n",
       "\n",
       "    .dataframe thead th {\n",
       "        text-align: right;\n",
       "    }\n",
       "</style>\n",
       "<table border=\"1\" class=\"dataframe\">\n",
       "  <thead>\n",
       "    <tr style=\"text-align: right;\">\n",
       "      <th></th>\n",
       "      <th>Age</th>\n",
       "      <th>CityTier</th>\n",
       "      <th>DurationOfPitch</th>\n",
       "      <th>NumberOfPersonVisiting</th>\n",
       "      <th>NumberOfFollowups</th>\n",
       "      <th>PreferredPropertyStar</th>\n",
       "      <th>NumberOfTrips</th>\n",
       "      <th>Passport</th>\n",
       "      <th>PitchSatisfactionScore</th>\n",
       "      <th>OwnCar</th>\n",
       "      <th>...</th>\n",
       "      <th>Occupation_Large Business</th>\n",
       "      <th>Occupation_Salaried</th>\n",
       "      <th>Occupation_Small Business</th>\n",
       "      <th>Gender_Male</th>\n",
       "      <th>ProductPitched_Deluxe</th>\n",
       "      <th>ProductPitched_King</th>\n",
       "      <th>ProductPitched_Standard</th>\n",
       "      <th>ProductPitched_Super Deluxe</th>\n",
       "      <th>MaritalStatus_Married</th>\n",
       "      <th>MaritalStatus_Single</th>\n",
       "    </tr>\n",
       "    <tr>\n",
       "      <th>CustomerID</th>\n",
       "      <th></th>\n",
       "      <th></th>\n",
       "      <th></th>\n",
       "      <th></th>\n",
       "      <th></th>\n",
       "      <th></th>\n",
       "      <th></th>\n",
       "      <th></th>\n",
       "      <th></th>\n",
       "      <th></th>\n",
       "      <th></th>\n",
       "      <th></th>\n",
       "      <th></th>\n",
       "      <th></th>\n",
       "      <th></th>\n",
       "      <th></th>\n",
       "      <th></th>\n",
       "      <th></th>\n",
       "      <th></th>\n",
       "      <th></th>\n",
       "      <th></th>\n",
       "    </tr>\n",
       "  </thead>\n",
       "  <tbody>\n",
       "    <tr>\n",
       "      <th>200000</th>\n",
       "      <td>41.0</td>\n",
       "      <td>3</td>\n",
       "      <td>6.0</td>\n",
       "      <td>3</td>\n",
       "      <td>3.0</td>\n",
       "      <td>3.0</td>\n",
       "      <td>1.0</td>\n",
       "      <td>1</td>\n",
       "      <td>2</td>\n",
       "      <td>1</td>\n",
       "      <td>...</td>\n",
       "      <td>0</td>\n",
       "      <td>1</td>\n",
       "      <td>0</td>\n",
       "      <td>0</td>\n",
       "      <td>1</td>\n",
       "      <td>0</td>\n",
       "      <td>0</td>\n",
       "      <td>0</td>\n",
       "      <td>0</td>\n",
       "      <td>1</td>\n",
       "    </tr>\n",
       "    <tr>\n",
       "      <th>200001</th>\n",
       "      <td>49.0</td>\n",
       "      <td>1</td>\n",
       "      <td>14.0</td>\n",
       "      <td>3</td>\n",
       "      <td>4.0</td>\n",
       "      <td>4.0</td>\n",
       "      <td>2.0</td>\n",
       "      <td>0</td>\n",
       "      <td>3</td>\n",
       "      <td>1</td>\n",
       "      <td>...</td>\n",
       "      <td>0</td>\n",
       "      <td>1</td>\n",
       "      <td>0</td>\n",
       "      <td>1</td>\n",
       "      <td>1</td>\n",
       "      <td>0</td>\n",
       "      <td>0</td>\n",
       "      <td>0</td>\n",
       "      <td>0</td>\n",
       "      <td>0</td>\n",
       "    </tr>\n",
       "    <tr>\n",
       "      <th>200002</th>\n",
       "      <td>37.0</td>\n",
       "      <td>1</td>\n",
       "      <td>8.0</td>\n",
       "      <td>3</td>\n",
       "      <td>4.0</td>\n",
       "      <td>3.0</td>\n",
       "      <td>7.0</td>\n",
       "      <td>1</td>\n",
       "      <td>3</td>\n",
       "      <td>0</td>\n",
       "      <td>...</td>\n",
       "      <td>0</td>\n",
       "      <td>0</td>\n",
       "      <td>0</td>\n",
       "      <td>1</td>\n",
       "      <td>0</td>\n",
       "      <td>0</td>\n",
       "      <td>0</td>\n",
       "      <td>0</td>\n",
       "      <td>0</td>\n",
       "      <td>1</td>\n",
       "    </tr>\n",
       "    <tr>\n",
       "      <th>200003</th>\n",
       "      <td>33.0</td>\n",
       "      <td>1</td>\n",
       "      <td>9.0</td>\n",
       "      <td>2</td>\n",
       "      <td>3.0</td>\n",
       "      <td>3.0</td>\n",
       "      <td>2.0</td>\n",
       "      <td>1</td>\n",
       "      <td>5</td>\n",
       "      <td>1</td>\n",
       "      <td>...</td>\n",
       "      <td>0</td>\n",
       "      <td>1</td>\n",
       "      <td>0</td>\n",
       "      <td>0</td>\n",
       "      <td>0</td>\n",
       "      <td>0</td>\n",
       "      <td>0</td>\n",
       "      <td>0</td>\n",
       "      <td>0</td>\n",
       "      <td>0</td>\n",
       "    </tr>\n",
       "    <tr>\n",
       "      <th>200004</th>\n",
       "      <td>36.0</td>\n",
       "      <td>1</td>\n",
       "      <td>8.0</td>\n",
       "      <td>2</td>\n",
       "      <td>3.0</td>\n",
       "      <td>4.0</td>\n",
       "      <td>1.0</td>\n",
       "      <td>0</td>\n",
       "      <td>5</td>\n",
       "      <td>1</td>\n",
       "      <td>...</td>\n",
       "      <td>0</td>\n",
       "      <td>0</td>\n",
       "      <td>1</td>\n",
       "      <td>1</td>\n",
       "      <td>0</td>\n",
       "      <td>0</td>\n",
       "      <td>0</td>\n",
       "      <td>0</td>\n",
       "      <td>0</td>\n",
       "      <td>0</td>\n",
       "    </tr>\n",
       "  </tbody>\n",
       "</table>\n",
       "<p>5 rows × 22 columns</p>\n",
       "</div>"
      ],
      "text/plain": [
       "             Age  CityTier  DurationOfPitch  NumberOfPersonVisiting  \\\n",
       "CustomerID                                                            \n",
       "200000      41.0         3              6.0                       3   \n",
       "200001      49.0         1             14.0                       3   \n",
       "200002      37.0         1              8.0                       3   \n",
       "200003      33.0         1              9.0                       2   \n",
       "200004      36.0         1              8.0                       2   \n",
       "\n",
       "            NumberOfFollowups  PreferredPropertyStar  NumberOfTrips  Passport  \\\n",
       "CustomerID                                                                      \n",
       "200000                    3.0                    3.0            1.0         1   \n",
       "200001                    4.0                    4.0            2.0         0   \n",
       "200002                    4.0                    3.0            7.0         1   \n",
       "200003                    3.0                    3.0            2.0         1   \n",
       "200004                    3.0                    4.0            1.0         0   \n",
       "\n",
       "            PitchSatisfactionScore  OwnCar  ...  Occupation_Large Business  \\\n",
       "CustomerID                                  ...                              \n",
       "200000                           2       1  ...                          0   \n",
       "200001                           3       1  ...                          0   \n",
       "200002                           3       0  ...                          0   \n",
       "200003                           5       1  ...                          0   \n",
       "200004                           5       1  ...                          0   \n",
       "\n",
       "            Occupation_Salaried  Occupation_Small Business  Gender_Male  \\\n",
       "CustomerID                                                                \n",
       "200000                        1                          0            0   \n",
       "200001                        1                          0            1   \n",
       "200002                        0                          0            1   \n",
       "200003                        1                          0            0   \n",
       "200004                        0                          1            1   \n",
       "\n",
       "            ProductPitched_Deluxe  ProductPitched_King  \\\n",
       "CustomerID                                               \n",
       "200000                          1                    0   \n",
       "200001                          1                    0   \n",
       "200002                          0                    0   \n",
       "200003                          0                    0   \n",
       "200004                          0                    0   \n",
       "\n",
       "            ProductPitched_Standard  ProductPitched_Super Deluxe  \\\n",
       "CustomerID                                                         \n",
       "200000                            0                            0   \n",
       "200001                            0                            0   \n",
       "200002                            0                            0   \n",
       "200003                            0                            0   \n",
       "200004                            0                            0   \n",
       "\n",
       "            MaritalStatus_Married  MaritalStatus_Single  \n",
       "CustomerID                                               \n",
       "200000                          0                     1  \n",
       "200001                          0                     0  \n",
       "200002                          0                     1  \n",
       "200003                          0                     0  \n",
       "200004                          0                     0  \n",
       "\n",
       "[5 rows x 22 columns]"
      ]
     },
     "execution_count": 31,
     "metadata": {},
     "output_type": "execute_result"
    }
   ],
   "source": [
    "# One hot encoding of all categorical independent features  \n",
    "x=pd.get_dummies(x,drop_first=True)\n",
    "x.head()"
   ]
  },
  {
   "cell_type": "markdown",
   "id": "c656153c",
   "metadata": {},
   "source": [
    "### Standardization"
   ]
  },
  {
   "cell_type": "code",
   "execution_count": 32,
   "id": "0eae3031",
   "metadata": {},
   "outputs": [],
   "source": [
    "from sklearn.preprocessing import StandardScaler"
   ]
  },
  {
   "cell_type": "code",
   "execution_count": 33,
   "id": "3a93c794",
   "metadata": {},
   "outputs": [],
   "source": [
    "# Standard scaling of independent features\n",
    "sc=StandardScaler()\n",
    "x=sc.fit_transform(x)"
   ]
  },
  {
   "cell_type": "markdown",
   "id": "8484d4c0",
   "metadata": {},
   "source": [
    "### Modelling"
   ]
  },
  {
   "cell_type": "code",
   "execution_count": 34,
   "id": "2851d249",
   "metadata": {},
   "outputs": [],
   "source": [
    "from sklearn.model_selection import train_test_split"
   ]
  },
  {
   "cell_type": "code",
   "execution_count": 35,
   "id": "f4044604",
   "metadata": {},
   "outputs": [],
   "source": [
    "x_train,x_test,y_train,y_test=train_test_split(x,y,test_size=0.3,random_state=32)"
   ]
  },
  {
   "cell_type": "code",
   "execution_count": 36,
   "id": "8e99ccb8",
   "metadata": {},
   "outputs": [
    {
     "data": {
      "text/plain": [
       "(3420, 22)"
      ]
     },
     "execution_count": 36,
     "metadata": {},
     "output_type": "execute_result"
    }
   ],
   "source": [
    "x_train.shape"
   ]
  },
  {
   "cell_type": "code",
   "execution_count": 37,
   "id": "108bdc95",
   "metadata": {},
   "outputs": [
    {
     "data": {
      "text/plain": [
       "(1466, 22)"
      ]
     },
     "execution_count": 37,
     "metadata": {},
     "output_type": "execute_result"
    }
   ],
   "source": [
    "x_test.shape"
   ]
  },
  {
   "cell_type": "code",
   "execution_count": 38,
   "id": "06a709a8",
   "metadata": {},
   "outputs": [],
   "source": [
    "from sklearn.linear_model import LogisticRegression\n",
    "from sklearn.tree import DecisionTreeClassifier\n",
    "from sklearn.ensemble import RandomForestClassifier\n",
    "from sklearn.neighbors import KNeighborsClassifier"
   ]
  },
  {
   "cell_type": "code",
   "execution_count": 39,
   "id": "d0e4ff0a",
   "metadata": {},
   "outputs": [],
   "source": [
    "from sklearn.metrics import accuracy_score,confusion_matrix,classification_report,r2_score"
   ]
  },
  {
   "cell_type": "markdown",
   "id": "87e903ec",
   "metadata": {},
   "source": [
    "##### Logistic regression model"
   ]
  },
  {
   "cell_type": "code",
   "execution_count": 40,
   "id": "744a9753",
   "metadata": {},
   "outputs": [],
   "source": [
    "lr_model=LogisticRegression()"
   ]
  },
  {
   "cell_type": "code",
   "execution_count": 41,
   "id": "21c515ea",
   "metadata": {},
   "outputs": [],
   "source": [
    "lr_model.fit(x_train,y_train)\n",
    "lr_pred=lr_model.predict(x_test)"
   ]
  },
  {
   "cell_type": "code",
   "execution_count": 42,
   "id": "4e0bdfff",
   "metadata": {},
   "outputs": [
    {
     "data": {
      "text/plain": [
       "0.8519781718963165"
      ]
     },
     "execution_count": 42,
     "metadata": {},
     "output_type": "execute_result"
    }
   ],
   "source": [
    "accuracy_score(y_test,lr_pred)"
   ]
  },
  {
   "cell_type": "code",
   "execution_count": 43,
   "id": "e2fd75bb",
   "metadata": {},
   "outputs": [
    {
     "data": {
      "text/plain": [
       "array([[1170,   48],\n",
       "       [ 169,   79]], dtype=int64)"
      ]
     },
     "execution_count": 43,
     "metadata": {},
     "output_type": "execute_result"
    }
   ],
   "source": [
    "confusion_matrix(y_test,lr_pred)"
   ]
  },
  {
   "cell_type": "code",
   "execution_count": 44,
   "id": "97a51d93",
   "metadata": {},
   "outputs": [
    {
     "data": {
      "text/plain": [
       "'              precision    recall  f1-score   support\\n\\n           0       0.87      0.96      0.92      1218\\n           1       0.62      0.32      0.42       248\\n\\n    accuracy                           0.85      1466\\n   macro avg       0.75      0.64      0.67      1466\\nweighted avg       0.83      0.85      0.83      1466\\n'"
      ]
     },
     "execution_count": 44,
     "metadata": {},
     "output_type": "execute_result"
    }
   ],
   "source": [
    "classification_report(y_test,lr_pred)"
   ]
  },
  {
   "cell_type": "markdown",
   "id": "185ea372",
   "metadata": {},
   "source": [
    "##### decision tree model"
   ]
  },
  {
   "cell_type": "code",
   "execution_count": 45,
   "id": "9cf9fede",
   "metadata": {},
   "outputs": [],
   "source": [
    "dt_model=DecisionTreeClassifier()"
   ]
  },
  {
   "cell_type": "code",
   "execution_count": 46,
   "id": "e5b4c91b",
   "metadata": {},
   "outputs": [],
   "source": [
    "dt_model.fit(x_train,y_train)\n",
    "dt_pred=dt_model.predict(x_test)"
   ]
  },
  {
   "cell_type": "code",
   "execution_count": 47,
   "id": "7891a6a1",
   "metadata": {},
   "outputs": [
    {
     "data": {
      "text/plain": [
       "0.8908594815825375"
      ]
     },
     "execution_count": 47,
     "metadata": {},
     "output_type": "execute_result"
    }
   ],
   "source": [
    "accuracy_score(y_test,dt_pred)"
   ]
  },
  {
   "cell_type": "code",
   "execution_count": 48,
   "id": "433a52c1",
   "metadata": {},
   "outputs": [
    {
     "data": {
      "text/plain": [
       "array([[1112,  106],\n",
       "       [  54,  194]], dtype=int64)"
      ]
     },
     "execution_count": 48,
     "metadata": {},
     "output_type": "execute_result"
    }
   ],
   "source": [
    "confusion_matrix(y_test,dt_pred)"
   ]
  },
  {
   "cell_type": "code",
   "execution_count": 49,
   "id": "50b9fa1f",
   "metadata": {},
   "outputs": [
    {
     "data": {
      "text/plain": [
       "'              precision    recall  f1-score   support\\n\\n           0       0.95      0.91      0.93      1218\\n           1       0.65      0.78      0.71       248\\n\\n    accuracy                           0.89      1466\\n   macro avg       0.80      0.85      0.82      1466\\nweighted avg       0.90      0.89      0.89      1466\\n'"
      ]
     },
     "execution_count": 49,
     "metadata": {},
     "output_type": "execute_result"
    }
   ],
   "source": [
    "classification_report(y_test,dt_pred)"
   ]
  },
  {
   "cell_type": "markdown",
   "id": "8fcc2d36",
   "metadata": {},
   "source": [
    "##### Random forest model"
   ]
  },
  {
   "cell_type": "code",
   "execution_count": 50,
   "id": "4e89489c",
   "metadata": {},
   "outputs": [],
   "source": [
    "rf_model=RandomForestClassifier()"
   ]
  },
  {
   "cell_type": "code",
   "execution_count": 51,
   "id": "bc8a02b5",
   "metadata": {},
   "outputs": [],
   "source": [
    "rf_model.fit(x_train,y_train)\n",
    "rf_pred=rf_model.predict(x_test)"
   ]
  },
  {
   "cell_type": "code",
   "execution_count": 52,
   "id": "62c6c358",
   "metadata": {},
   "outputs": [
    {
     "data": {
      "text/plain": [
       "0.9263301500682128"
      ]
     },
     "execution_count": 52,
     "metadata": {},
     "output_type": "execute_result"
    }
   ],
   "source": [
    "accuracy_score(y_test,rf_pred)"
   ]
  },
  {
   "cell_type": "code",
   "execution_count": 53,
   "id": "06820914",
   "metadata": {},
   "outputs": [
    {
     "data": {
      "text/plain": [
       "array([[1201,   17],\n",
       "       [  91,  157]], dtype=int64)"
      ]
     },
     "execution_count": 53,
     "metadata": {},
     "output_type": "execute_result"
    }
   ],
   "source": [
    "confusion_matrix(y_test,rf_pred)"
   ]
  },
  {
   "cell_type": "code",
   "execution_count": 54,
   "id": "d59bb460",
   "metadata": {},
   "outputs": [
    {
     "data": {
      "text/plain": [
       "'              precision    recall  f1-score   support\\n\\n           0       0.93      0.99      0.96      1218\\n           1       0.90      0.63      0.74       248\\n\\n    accuracy                           0.93      1466\\n   macro avg       0.92      0.81      0.85      1466\\nweighted avg       0.92      0.93      0.92      1466\\n'"
      ]
     },
     "execution_count": 54,
     "metadata": {},
     "output_type": "execute_result"
    }
   ],
   "source": [
    "classification_report(y_test,rf_pred)"
   ]
  },
  {
   "cell_type": "markdown",
   "id": "587788b9",
   "metadata": {},
   "source": [
    "##### KNN model"
   ]
  },
  {
   "cell_type": "code",
   "execution_count": 55,
   "id": "ce67bea0",
   "metadata": {},
   "outputs": [],
   "source": [
    "knn=KNeighborsClassifier()"
   ]
  },
  {
   "cell_type": "code",
   "execution_count": 56,
   "id": "2872475c",
   "metadata": {},
   "outputs": [],
   "source": [
    "knn.fit(x_train,y_train)\n",
    "knn_pred=knn.predict(x_test)"
   ]
  },
  {
   "cell_type": "code",
   "execution_count": 57,
   "id": "5aecfd67",
   "metadata": {},
   "outputs": [
    {
     "data": {
      "text/plain": [
       "0.9045020463847203"
      ]
     },
     "execution_count": 57,
     "metadata": {},
     "output_type": "execute_result"
    }
   ],
   "source": [
    "accuracy_score(y_test,knn_pred)"
   ]
  },
  {
   "cell_type": "code",
   "execution_count": 58,
   "id": "c83ae677",
   "metadata": {},
   "outputs": [
    {
     "data": {
      "text/plain": [
       "array([[1180,   38],\n",
       "       [ 102,  146]], dtype=int64)"
      ]
     },
     "execution_count": 58,
     "metadata": {},
     "output_type": "execute_result"
    }
   ],
   "source": [
    "confusion_matrix(y_test,knn_pred)"
   ]
  },
  {
   "cell_type": "code",
   "execution_count": 59,
   "id": "1c50e824",
   "metadata": {},
   "outputs": [
    {
     "data": {
      "text/plain": [
       "'              precision    recall  f1-score   support\\n\\n           0       0.92      0.97      0.94      1218\\n           1       0.79      0.59      0.68       248\\n\\n    accuracy                           0.90      1466\\n   macro avg       0.86      0.78      0.81      1466\\nweighted avg       0.90      0.90      0.90      1466\\n'"
      ]
     },
     "execution_count": 59,
     "metadata": {},
     "output_type": "execute_result"
    }
   ],
   "source": [
    "classification_report(y_test,knn_pred)"
   ]
  },
  {
   "cell_type": "markdown",
   "id": "0a613f1a",
   "metadata": {},
   "source": [
    "From all the four models, random forest classifier is seen to give the best results in terms of accuracy and other metrics. So we now try to improve the model performance by hyper-parameter tuning."
   ]
  },
  {
   "cell_type": "markdown",
   "id": "793b4851",
   "metadata": {},
   "source": [
    "### Hyper parameter tuning"
   ]
  },
  {
   "cell_type": "code",
   "execution_count": 60,
   "id": "55d0d63c",
   "metadata": {},
   "outputs": [],
   "source": [
    "from sklearn.model_selection import RandomizedSearchCV"
   ]
  },
  {
   "cell_type": "code",
   "execution_count": 61,
   "id": "081466c1",
   "metadata": {},
   "outputs": [],
   "source": [
    "# Number of trees in random forest\n",
    "n_estimators = [int(x) for x in np.linspace(start = 200, stop = 2000, num = 10)]\n",
    "# Number of features to consider at every split\n",
    "max_features = ['auto', 'sqrt']\n",
    "# Maximum number of levels in tree\n",
    "max_depth = [int(x) for x in np.linspace(10, 110, num = 11)]\n",
    "max_depth.append(None)\n",
    "# Minimum number of samples required to split a node\n",
    "min_samples_split = [2, 5, 10]\n",
    "# Minimum number of samples required at each leaf node\n",
    "min_samples_leaf = [1, 2, 4]\n",
    "# Method of selecting samples for training each tree\n",
    "bootstrap = [True, False]"
   ]
  },
  {
   "cell_type": "code",
   "execution_count": 62,
   "id": "2ced90f5",
   "metadata": {},
   "outputs": [],
   "source": [
    "# List of possible parameter values that need to be tried and the parameters that give best accuracy for the model are to be found out\n",
    "random_grid = {'n_estimators': n_estimators,\n",
    "               'max_features': max_features,\n",
    "               'max_depth': max_depth,\n",
    "               'min_samples_split': min_samples_split,\n",
    "               'min_samples_leaf': min_samples_leaf,\n",
    "               'bootstrap': bootstrap}"
   ]
  },
  {
   "cell_type": "code",
   "execution_count": 63,
   "id": "ebefb41d",
   "metadata": {},
   "outputs": [],
   "source": [
    "rf_random = RandomizedSearchCV(estimator = rf_model, param_distributions = random_grid, n_iter = 50, cv = 3, verbose=2, random_state=32, n_jobs = -1)"
   ]
  },
  {
   "cell_type": "code",
   "execution_count": 64,
   "id": "a3df7a3c",
   "metadata": {},
   "outputs": [
    {
     "name": "stdout",
     "output_type": "stream",
     "text": [
      "Fitting 3 folds for each of 50 candidates, totalling 150 fits\n"
     ]
    },
    {
     "data": {
      "text/plain": [
       "RandomizedSearchCV(cv=3, estimator=RandomForestClassifier(), n_iter=50,\n",
       "                   n_jobs=-1,\n",
       "                   param_distributions={'bootstrap': [True, False],\n",
       "                                        'max_depth': [10, 20, 30, 40, 50, 60,\n",
       "                                                      70, 80, 90, 100, 110,\n",
       "                                                      None],\n",
       "                                        'max_features': ['auto', 'sqrt'],\n",
       "                                        'min_samples_leaf': [1, 2, 4],\n",
       "                                        'min_samples_split': [2, 5, 10],\n",
       "                                        'n_estimators': [200, 400, 600, 800,\n",
       "                                                         1000, 1200, 1400, 1600,\n",
       "                                                         1800, 2000]},\n",
       "                   random_state=32, verbose=2)"
      ]
     },
     "execution_count": 64,
     "metadata": {},
     "output_type": "execute_result"
    }
   ],
   "source": [
    "rf_random.fit(x_train,y_train)"
   ]
  },
  {
   "cell_type": "code",
   "execution_count": 65,
   "id": "5d36fbdf",
   "metadata": {},
   "outputs": [
    {
     "data": {
      "text/plain": [
       "{'n_estimators': 1000,\n",
       " 'min_samples_split': 2,\n",
       " 'min_samples_leaf': 1,\n",
       " 'max_features': 'sqrt',\n",
       " 'max_depth': 100,\n",
       " 'bootstrap': False}"
      ]
     },
     "execution_count": 65,
     "metadata": {},
     "output_type": "execute_result"
    }
   ],
   "source": [
    "# Finding values of the best parameters\n",
    "rf_random.best_params_"
   ]
  },
  {
   "cell_type": "code",
   "execution_count": 66,
   "id": "a36743b5",
   "metadata": {},
   "outputs": [],
   "source": [
    "rf_tuned=RandomForestClassifier(n_estimators=400,min_samples_split=2,min_samples_leaf=1,max_features='sqrt',max_depth=None,bootstrap=False)"
   ]
  },
  {
   "cell_type": "code",
   "execution_count": 67,
   "id": "4b274af8",
   "metadata": {},
   "outputs": [],
   "source": [
    "rf_tuned.fit(x_train,y_train)\n",
    "rf_new=rf_tuned.predict(x_test)"
   ]
  },
  {
   "cell_type": "code",
   "execution_count": 68,
   "id": "3bfff625",
   "metadata": {},
   "outputs": [
    {
     "data": {
      "text/plain": [
       "0.9433833560709414"
      ]
     },
     "execution_count": 68,
     "metadata": {},
     "output_type": "execute_result"
    }
   ],
   "source": [
    "accuracy_score(y_test,rf_new)"
   ]
  },
  {
   "cell_type": "code",
   "execution_count": 69,
   "id": "e8d6ee6f",
   "metadata": {},
   "outputs": [
    {
     "data": {
      "text/plain": [
       "array([[1195,   23],\n",
       "       [  60,  188]], dtype=int64)"
      ]
     },
     "execution_count": 69,
     "metadata": {},
     "output_type": "execute_result"
    }
   ],
   "source": [
    "confusion_matrix(y_test,rf_new)"
   ]
  },
  {
   "cell_type": "code",
   "execution_count": 70,
   "id": "b6d60b66",
   "metadata": {},
   "outputs": [
    {
     "data": {
      "text/plain": [
       "'              precision    recall  f1-score   support\\n\\n           0       0.95      0.98      0.97      1218\\n           1       0.89      0.76      0.82       248\\n\\n    accuracy                           0.94      1466\\n   macro avg       0.92      0.87      0.89      1466\\nweighted avg       0.94      0.94      0.94      1466\\n'"
      ]
     },
     "execution_count": 70,
     "metadata": {},
     "output_type": "execute_result"
    }
   ],
   "source": [
    "classification_report(y_test,rf_new)"
   ]
  },
  {
   "cell_type": "markdown",
   "id": "12818734",
   "metadata": {},
   "source": [
    "Accuracy of our Random forest classifier increased from 92% to 94% after hyper parameter tuning."
   ]
  },
  {
   "cell_type": "markdown",
   "id": "c8867bb2",
   "metadata": {},
   "source": [
    "##### This random forest classifier model can predict whether a new customer with certain features is likely to purchase a new plan with an accuracy of 94.2%."
   ]
  },
  {
   "cell_type": "code",
   "execution_count": null,
   "id": "777ecc3e",
   "metadata": {},
   "outputs": [],
   "source": []
  }
 ],
 "metadata": {
  "kernelspec": {
   "display_name": "Python 3 (ipykernel)",
   "language": "python",
   "name": "python3"
  },
  "language_info": {
   "codemirror_mode": {
    "name": "ipython",
    "version": 3
   },
   "file_extension": ".py",
   "mimetype": "text/x-python",
   "name": "python",
   "nbconvert_exporter": "python",
   "pygments_lexer": "ipython3",
   "version": "3.9.7"
  }
 },
 "nbformat": 4,
 "nbformat_minor": 5
}
